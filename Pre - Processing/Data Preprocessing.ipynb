{
 "cells": [
  {
   "cell_type": "code",
   "execution_count": 1,
   "id": "7080ad1a",
   "metadata": {
    "id": "7080ad1a"
   },
   "outputs": [],
   "source": [
    "import pandas as pd # Data manipulation\n",
    "import numpy as np # Numerical operations\n",
    "\n",
    "# Plotting\n",
    "import matplotlib.pyplot as plt\n",
    "import seaborn as sns\n",
    "sns.set()\n",
    "\n",
    "# Handle warnings\n",
    "import warnings\n",
    "warnings.filterwarnings('ignore')"
   ]
  },
  {
   "cell_type": "code",
   "execution_count": 2,
   "id": "1d2aec89",
   "metadata": {
    "id": "1d2aec89",
    "scrolled": true
   },
   "outputs": [],
   "source": [
    "company = pd.read_csv(\"companies.csv\")  # import the dataset"
   ]
  },
  {
   "cell_type": "code",
   "execution_count": 3,
   "id": "cce7109f",
   "metadata": {
    "id": "cce7109f"
   },
   "outputs": [
    {
     "data": {
      "text/html": [
       "<div>\n",
       "<style scoped>\n",
       "    .dataframe tbody tr th:only-of-type {\n",
       "        vertical-align: middle;\n",
       "    }\n",
       "\n",
       "    .dataframe tbody tr th {\n",
       "        vertical-align: top;\n",
       "    }\n",
       "\n",
       "    .dataframe thead th {\n",
       "        text-align: right;\n",
       "    }\n",
       "</style>\n",
       "<table border=\"1\" class=\"dataframe\">\n",
       "  <thead>\n",
       "    <tr style=\"text-align: right;\">\n",
       "      <th></th>\n",
       "      <th>id</th>\n",
       "      <th>Unnamed: 0.1</th>\n",
       "      <th>entity_type</th>\n",
       "      <th>entity_id</th>\n",
       "      <th>parent_id</th>\n",
       "      <th>name</th>\n",
       "      <th>normalized_name</th>\n",
       "      <th>permalink</th>\n",
       "      <th>category_code</th>\n",
       "      <th>status</th>\n",
       "      <th>...</th>\n",
       "      <th>first_milestone_at</th>\n",
       "      <th>last_milestone_at</th>\n",
       "      <th>milestones</th>\n",
       "      <th>relationships</th>\n",
       "      <th>created_by</th>\n",
       "      <th>created_at</th>\n",
       "      <th>updated_at</th>\n",
       "      <th>lat</th>\n",
       "      <th>lng</th>\n",
       "      <th>ROI</th>\n",
       "    </tr>\n",
       "  </thead>\n",
       "  <tbody>\n",
       "    <tr>\n",
       "      <th>0</th>\n",
       "      <td>c:1</td>\n",
       "      <td>0</td>\n",
       "      <td>Company</td>\n",
       "      <td>1</td>\n",
       "      <td>NaN</td>\n",
       "      <td>Wetpaint</td>\n",
       "      <td>wetpaint</td>\n",
       "      <td>/company/wetpaint</td>\n",
       "      <td>web</td>\n",
       "      <td>operating</td>\n",
       "      <td>...</td>\n",
       "      <td>2010-09-05</td>\n",
       "      <td>2013-09-18</td>\n",
       "      <td>5.0</td>\n",
       "      <td>17.0</td>\n",
       "      <td>initial-importer</td>\n",
       "      <td>2007-05-25 06:51:27</td>\n",
       "      <td>2013-04-13 03:29:00</td>\n",
       "      <td>47.606209</td>\n",
       "      <td>-122.332071</td>\n",
       "      <td>15.5</td>\n",
       "    </tr>\n",
       "    <tr>\n",
       "      <th>1</th>\n",
       "      <td>c:10</td>\n",
       "      <td>1</td>\n",
       "      <td>Company</td>\n",
       "      <td>10</td>\n",
       "      <td>NaN</td>\n",
       "      <td>Flektor</td>\n",
       "      <td>flektor</td>\n",
       "      <td>/company/flektor</td>\n",
       "      <td>games_video</td>\n",
       "      <td>acquired</td>\n",
       "      <td>...</td>\n",
       "      <td>NaN</td>\n",
       "      <td>NaN</td>\n",
       "      <td>NaN</td>\n",
       "      <td>6.0</td>\n",
       "      <td>initial-importer</td>\n",
       "      <td>2007-05-31 21:11:51</td>\n",
       "      <td>2008-05-23 23:23:14</td>\n",
       "      <td>34.021122</td>\n",
       "      <td>-118.396467</td>\n",
       "      <td>NaN</td>\n",
       "    </tr>\n",
       "    <tr>\n",
       "      <th>2</th>\n",
       "      <td>c:100</td>\n",
       "      <td>2</td>\n",
       "      <td>Company</td>\n",
       "      <td>100</td>\n",
       "      <td>NaN</td>\n",
       "      <td>There</td>\n",
       "      <td>there</td>\n",
       "      <td>/company/there</td>\n",
       "      <td>games_video</td>\n",
       "      <td>acquired</td>\n",
       "      <td>...</td>\n",
       "      <td>2003-02-01</td>\n",
       "      <td>2011-09-23</td>\n",
       "      <td>4.0</td>\n",
       "      <td>12.0</td>\n",
       "      <td>initial-importer</td>\n",
       "      <td>2007-08-06 23:52:45</td>\n",
       "      <td>2013-11-04 02:09:48</td>\n",
       "      <td>37.562992</td>\n",
       "      <td>-122.325525</td>\n",
       "      <td>NaN</td>\n",
       "    </tr>\n",
       "    <tr>\n",
       "      <th>3</th>\n",
       "      <td>c:10000</td>\n",
       "      <td>3</td>\n",
       "      <td>Company</td>\n",
       "      <td>10000</td>\n",
       "      <td>NaN</td>\n",
       "      <td>MYWEBBO</td>\n",
       "      <td>mywebbo</td>\n",
       "      <td>/company/mywebbo</td>\n",
       "      <td>network_hosting</td>\n",
       "      <td>operating</td>\n",
       "      <td>...</td>\n",
       "      <td>NaN</td>\n",
       "      <td>NaN</td>\n",
       "      <td>NaN</td>\n",
       "      <td>NaN</td>\n",
       "      <td>NaN</td>\n",
       "      <td>2008-08-24 16:51:57</td>\n",
       "      <td>2008-09-06 14:19:18</td>\n",
       "      <td>NaN</td>\n",
       "      <td>NaN</td>\n",
       "      <td>NaN</td>\n",
       "    </tr>\n",
       "    <tr>\n",
       "      <th>4</th>\n",
       "      <td>c:10001</td>\n",
       "      <td>4</td>\n",
       "      <td>Company</td>\n",
       "      <td>10001</td>\n",
       "      <td>NaN</td>\n",
       "      <td>THE Movie Streamer</td>\n",
       "      <td>the movie streamer</td>\n",
       "      <td>/company/the-movie-streamer</td>\n",
       "      <td>games_video</td>\n",
       "      <td>operating</td>\n",
       "      <td>...</td>\n",
       "      <td>NaN</td>\n",
       "      <td>NaN</td>\n",
       "      <td>NaN</td>\n",
       "      <td>NaN</td>\n",
       "      <td>NaN</td>\n",
       "      <td>2008-08-24 17:10:34</td>\n",
       "      <td>2008-09-06 14:19:18</td>\n",
       "      <td>NaN</td>\n",
       "      <td>NaN</td>\n",
       "      <td>NaN</td>\n",
       "    </tr>\n",
       "  </tbody>\n",
       "</table>\n",
       "<p>5 rows × 44 columns</p>\n",
       "</div>"
      ],
      "text/plain": [
       "        id  Unnamed: 0.1 entity_type  entity_id  parent_id  \\\n",
       "0      c:1             0     Company          1        NaN   \n",
       "1     c:10             1     Company         10        NaN   \n",
       "2    c:100             2     Company        100        NaN   \n",
       "3  c:10000             3     Company      10000        NaN   \n",
       "4  c:10001             4     Company      10001        NaN   \n",
       "\n",
       "                 name     normalized_name                    permalink  \\\n",
       "0            Wetpaint            wetpaint            /company/wetpaint   \n",
       "1             Flektor             flektor             /company/flektor   \n",
       "2               There               there               /company/there   \n",
       "3             MYWEBBO             mywebbo             /company/mywebbo   \n",
       "4  THE Movie Streamer  the movie streamer  /company/the-movie-streamer   \n",
       "\n",
       "     category_code     status  ... first_milestone_at last_milestone_at  \\\n",
       "0              web  operating  ...         2010-09-05        2013-09-18   \n",
       "1      games_video   acquired  ...                NaN               NaN   \n",
       "2      games_video   acquired  ...         2003-02-01        2011-09-23   \n",
       "3  network_hosting  operating  ...                NaN               NaN   \n",
       "4      games_video  operating  ...                NaN               NaN   \n",
       "\n",
       "  milestones relationships        created_by           created_at  \\\n",
       "0        5.0          17.0  initial-importer  2007-05-25 06:51:27   \n",
       "1        NaN           6.0  initial-importer  2007-05-31 21:11:51   \n",
       "2        4.0          12.0  initial-importer  2007-08-06 23:52:45   \n",
       "3        NaN           NaN               NaN  2008-08-24 16:51:57   \n",
       "4        NaN           NaN               NaN  2008-08-24 17:10:34   \n",
       "\n",
       "            updated_at        lat         lng   ROI  \n",
       "0  2013-04-13 03:29:00  47.606209 -122.332071  15.5  \n",
       "1  2008-05-23 23:23:14  34.021122 -118.396467   NaN  \n",
       "2  2013-11-04 02:09:48  37.562992 -122.325525   NaN  \n",
       "3  2008-09-06 14:19:18        NaN         NaN   NaN  \n",
       "4  2008-09-06 14:19:18        NaN         NaN   NaN  \n",
       "\n",
       "[5 rows x 44 columns]"
      ]
     },
     "execution_count": 3,
     "metadata": {},
     "output_type": "execute_result"
    }
   ],
   "source": [
    "company.head() # 1st 5 rows"
   ]
  },
  {
   "cell_type": "code",
   "execution_count": 4,
   "id": "74d126ce",
   "metadata": {
    "id": "74d126ce"
   },
   "outputs": [
    {
     "data": {
      "text/html": [
       "<div>\n",
       "<style scoped>\n",
       "    .dataframe tbody tr th:only-of-type {\n",
       "        vertical-align: middle;\n",
       "    }\n",
       "\n",
       "    .dataframe tbody tr th {\n",
       "        vertical-align: top;\n",
       "    }\n",
       "\n",
       "    .dataframe thead th {\n",
       "        text-align: right;\n",
       "    }\n",
       "</style>\n",
       "<table border=\"1\" class=\"dataframe\">\n",
       "  <thead>\n",
       "    <tr style=\"text-align: right;\">\n",
       "      <th></th>\n",
       "      <th>Unnamed: 0.1</th>\n",
       "      <th>entity_id</th>\n",
       "      <th>parent_id</th>\n",
       "      <th>logo_width</th>\n",
       "      <th>logo_height</th>\n",
       "      <th>investment_rounds</th>\n",
       "      <th>invested_companies</th>\n",
       "      <th>funding_rounds</th>\n",
       "      <th>funding_total_usd</th>\n",
       "      <th>milestones</th>\n",
       "      <th>relationships</th>\n",
       "      <th>lat</th>\n",
       "      <th>lng</th>\n",
       "      <th>ROI</th>\n",
       "    </tr>\n",
       "  </thead>\n",
       "  <tbody>\n",
       "    <tr>\n",
       "      <th>count</th>\n",
       "      <td>196553.000000</td>\n",
       "      <td>196553.000000</td>\n",
       "      <td>0.0</td>\n",
       "      <td>110110.000000</td>\n",
       "      <td>110110.000000</td>\n",
       "      <td>2591.000000</td>\n",
       "      <td>2591.000000</td>\n",
       "      <td>31707.000000</td>\n",
       "      <td>2.787400e+04</td>\n",
       "      <td>91699.000000</td>\n",
       "      <td>129667.000000</td>\n",
       "      <td>83852.000000</td>\n",
       "      <td>83852.000000</td>\n",
       "      <td>726.000000</td>\n",
       "    </tr>\n",
       "    <tr>\n",
       "      <th>mean</th>\n",
       "      <td>98276.000000</td>\n",
       "      <td>153006.227333</td>\n",
       "      <td>NaN</td>\n",
       "      <td>459.132685</td>\n",
       "      <td>222.728917</td>\n",
       "      <td>2.372057</td>\n",
       "      <td>2.204940</td>\n",
       "      <td>1.659760</td>\n",
       "      <td>1.481652e+07</td>\n",
       "      <td>1.199402</td>\n",
       "      <td>2.852067</td>\n",
       "      <td>37.564512</td>\n",
       "      <td>-52.123066</td>\n",
       "      <td>45.745037</td>\n",
       "    </tr>\n",
       "    <tr>\n",
       "      <th>std</th>\n",
       "      <td>56740.108067</td>\n",
       "      <td>90209.250941</td>\n",
       "      <td>NaN</td>\n",
       "      <td>594.982577</td>\n",
       "      <td>333.090722</td>\n",
       "      <td>12.173510</td>\n",
       "      <td>11.436955</td>\n",
       "      <td>1.201666</td>\n",
       "      <td>6.775937e+07</td>\n",
       "      <td>0.540099</td>\n",
       "      <td>9.100309</td>\n",
       "      <td>15.477102</td>\n",
       "      <td>70.049067</td>\n",
       "      <td>572.035638</td>\n",
       "    </tr>\n",
       "    <tr>\n",
       "      <th>min</th>\n",
       "      <td>0.000000</td>\n",
       "      <td>1.000000</td>\n",
       "      <td>NaN</td>\n",
       "      <td>1.000000</td>\n",
       "      <td>1.000000</td>\n",
       "      <td>1.000000</td>\n",
       "      <td>1.000000</td>\n",
       "      <td>1.000000</td>\n",
       "      <td>2.910000e+02</td>\n",
       "      <td>1.000000</td>\n",
       "      <td>1.000000</td>\n",
       "      <td>-50.942326</td>\n",
       "      <td>-159.497746</td>\n",
       "      <td>0.011111</td>\n",
       "    </tr>\n",
       "    <tr>\n",
       "      <th>25%</th>\n",
       "      <td>49138.000000</td>\n",
       "      <td>59850.000000</td>\n",
       "      <td>NaN</td>\n",
       "      <td>192.000000</td>\n",
       "      <td>70.000000</td>\n",
       "      <td>1.000000</td>\n",
       "      <td>1.000000</td>\n",
       "      <td>1.000000</td>\n",
       "      <td>5.000000e+05</td>\n",
       "      <td>1.000000</td>\n",
       "      <td>1.000000</td>\n",
       "      <td>34.052234</td>\n",
       "      <td>-111.940005</td>\n",
       "      <td>2.648879</td>\n",
       "    </tr>\n",
       "    <tr>\n",
       "      <th>50%</th>\n",
       "      <td>98276.000000</td>\n",
       "      <td>174539.000000</td>\n",
       "      <td>NaN</td>\n",
       "      <td>267.000000</td>\n",
       "      <td>105.000000</td>\n",
       "      <td>1.000000</td>\n",
       "      <td>1.000000</td>\n",
       "      <td>1.000000</td>\n",
       "      <td>2.564500e+06</td>\n",
       "      <td>1.000000</td>\n",
       "      <td>1.000000</td>\n",
       "      <td>39.768403</td>\n",
       "      <td>-77.036871</td>\n",
       "      <td>6.500497</td>\n",
       "    </tr>\n",
       "    <tr>\n",
       "      <th>75%</th>\n",
       "      <td>147414.000000</td>\n",
       "      <td>232655.000000</td>\n",
       "      <td>NaN</td>\n",
       "      <td>484.000000</td>\n",
       "      <td>232.000000</td>\n",
       "      <td>1.000000</td>\n",
       "      <td>1.000000</td>\n",
       "      <td>2.000000</td>\n",
       "      <td>1.100000e+07</td>\n",
       "      <td>1.000000</td>\n",
       "      <td>3.000000</td>\n",
       "      <td>45.421530</td>\n",
       "      <td>-0.127758</td>\n",
       "      <td>13.549900</td>\n",
       "    </tr>\n",
       "    <tr>\n",
       "      <th>max</th>\n",
       "      <td>196552.000000</td>\n",
       "      <td>286215.000000</td>\n",
       "      <td>NaN</td>\n",
       "      <td>18200.000000</td>\n",
       "      <td>9600.000000</td>\n",
       "      <td>478.000000</td>\n",
       "      <td>459.000000</td>\n",
       "      <td>15.000000</td>\n",
       "      <td>5.700000e+09</td>\n",
       "      <td>9.000000</td>\n",
       "      <td>1189.000000</td>\n",
       "      <td>77.553604</td>\n",
       "      <td>176.212549</td>\n",
       "      <td>13333.333333</td>\n",
       "    </tr>\n",
       "  </tbody>\n",
       "</table>\n",
       "</div>"
      ],
      "text/plain": [
       "        Unnamed: 0.1      entity_id  parent_id     logo_width    logo_height  \\\n",
       "count  196553.000000  196553.000000        0.0  110110.000000  110110.000000   \n",
       "mean    98276.000000  153006.227333        NaN     459.132685     222.728917   \n",
       "std     56740.108067   90209.250941        NaN     594.982577     333.090722   \n",
       "min         0.000000       1.000000        NaN       1.000000       1.000000   \n",
       "25%     49138.000000   59850.000000        NaN     192.000000      70.000000   \n",
       "50%     98276.000000  174539.000000        NaN     267.000000     105.000000   \n",
       "75%    147414.000000  232655.000000        NaN     484.000000     232.000000   \n",
       "max    196552.000000  286215.000000        NaN   18200.000000    9600.000000   \n",
       "\n",
       "       investment_rounds  invested_companies  funding_rounds  \\\n",
       "count        2591.000000         2591.000000    31707.000000   \n",
       "mean            2.372057            2.204940        1.659760   \n",
       "std            12.173510           11.436955        1.201666   \n",
       "min             1.000000            1.000000        1.000000   \n",
       "25%             1.000000            1.000000        1.000000   \n",
       "50%             1.000000            1.000000        1.000000   \n",
       "75%             1.000000            1.000000        2.000000   \n",
       "max           478.000000          459.000000       15.000000   \n",
       "\n",
       "       funding_total_usd    milestones  relationships           lat  \\\n",
       "count       2.787400e+04  91699.000000  129667.000000  83852.000000   \n",
       "mean        1.481652e+07      1.199402       2.852067     37.564512   \n",
       "std         6.775937e+07      0.540099       9.100309     15.477102   \n",
       "min         2.910000e+02      1.000000       1.000000    -50.942326   \n",
       "25%         5.000000e+05      1.000000       1.000000     34.052234   \n",
       "50%         2.564500e+06      1.000000       1.000000     39.768403   \n",
       "75%         1.100000e+07      1.000000       3.000000     45.421530   \n",
       "max         5.700000e+09      9.000000    1189.000000     77.553604   \n",
       "\n",
       "                lng           ROI  \n",
       "count  83852.000000    726.000000  \n",
       "mean     -52.123066     45.745037  \n",
       "std       70.049067    572.035638  \n",
       "min     -159.497746      0.011111  \n",
       "25%     -111.940005      2.648879  \n",
       "50%      -77.036871      6.500497  \n",
       "75%       -0.127758     13.549900  \n",
       "max      176.212549  13333.333333  "
      ]
     },
     "execution_count": 4,
     "metadata": {},
     "output_type": "execute_result"
    }
   ],
   "source": [
    "company.describe()  # Satatistical information"
   ]
  },
  {
   "cell_type": "code",
   "execution_count": 5,
   "id": "d16920a4",
   "metadata": {
    "id": "d16920a4"
   },
   "outputs": [
    {
     "data": {
      "text/plain": [
       "Index(['id', 'Unnamed: 0.1', 'entity_type', 'entity_id', 'parent_id', 'name',\n",
       "       'normalized_name', 'permalink', 'category_code', 'status', 'founded_at',\n",
       "       'closed_at', 'domain', 'homepage_url', 'twitter_username', 'logo_url',\n",
       "       'logo_width', 'logo_height', 'short_description', 'description',\n",
       "       'overview', 'tag_list', 'country_code', 'state_code', 'city', 'region',\n",
       "       'first_investment_at', 'last_investment_at', 'investment_rounds',\n",
       "       'invested_companies', 'first_funding_at', 'last_funding_at',\n",
       "       'funding_rounds', 'funding_total_usd', 'first_milestone_at',\n",
       "       'last_milestone_at', 'milestones', 'relationships', 'created_by',\n",
       "       'created_at', 'updated_at', 'lat', 'lng', 'ROI'],\n",
       "      dtype='object')"
      ]
     },
     "execution_count": 5,
     "metadata": {},
     "output_type": "execute_result"
    }
   ],
   "source": [
    "company.columns # list of columns or variables"
   ]
  },
  {
   "cell_type": "markdown",
   "id": "b2c1d84a",
   "metadata": {
    "id": "b2c1d84a"
   },
   "source": [
    "## A. Data Cleaning\n",
    "    1. Delete irrelevant & redundant information\n",
    "    2. Remove noise or unreliable data (missing values and outliers)\n",
    "    \n",
    "### 1. Delete irrelevant and redundant information\n",
    "     a. Delete 'region','city','state_code' as they provide too much of granularity.\n",
    "     b. Delete 'id', 'Unnamed: 0.1', 'entity_type', 'entity_id', 'parent_id', 'created_by',\n",
    "       'created_at', 'updated_at' as they are redundant.\n",
    "     c. Delete 'domain', 'homepage_url', 'twitter_username', 'logo_url', 'logo_width', 'logo_height',           \n",
    "        'short_description', 'description', 'overview','tag_list', 'name', 'normalized_name', 'permalink',    \n",
    "        'invested_companies' as they are irrelevant features.\n",
    "     d. Delete duplicate values if any.\n",
    "     e. Delete those which has more than 98% of null values.\n",
    "     \n",
    "### 2. Remove noise or unreliable data (missing values and outliers)\n",
    "     a. Delete instances with missing values for 'status', 'country_code', 'category_code' and 'founded_at'.\n",
    "     b. Delete outliers for 'funding_total_usd' and 'funding_rounds'.\n",
    "     c. Delete contradictory (mutually opposed or inconsistent data)."
   ]
  },
  {
   "cell_type": "markdown",
   "id": "8ad89355",
   "metadata": {
    "id": "8ad89355"
   },
   "source": [
    "#### 1.a. Delete 'region','city' as they provide too much of granularity.    "
   ]
  },
  {
   "cell_type": "code",
   "execution_count": 6,
   "id": "3aa976b4",
   "metadata": {
    "id": "3aa976b4",
    "scrolled": true
   },
   "outputs": [],
   "source": [
    "company.drop(['region', 'city', 'state_code'], axis = 1, inplace = True) "
   ]
  },
  {
   "cell_type": "markdown",
   "id": "32384c4b",
   "metadata": {
    "id": "32384c4b"
   },
   "source": [
    "#### 1.b. Delete 'id', 'Unnamed: 0.1', 'entity_type', 'entity_id', 'parent_id', 'created_by', 'created_at', 'updated_at' as they are redundant."
   ]
  },
  {
   "cell_type": "code",
   "execution_count": 7,
   "id": "1207e29d",
   "metadata": {
    "id": "1207e29d"
   },
   "outputs": [],
   "source": [
    "company.drop(['id', 'Unnamed: 0.1', 'entity_type', 'entity_id', 'parent_id', 'created_by','created_at', 'updated_at'], \n",
    "             axis = 1, inplace = True) "
   ]
  },
  {
   "cell_type": "markdown",
   "id": "51eedcef",
   "metadata": {
    "id": "51eedcef"
   },
   "source": [
    "#### 1.c. Delete 'domain', 'homepage_url', 'twitter_username', 'logo_url', 'logo_width', 'logo_height',  'short_description',    'description',  'overview','tag_list', 'name', 'normalized_name', 'permalink', 'invested_companies' as they are irrelevant features."
   ]
  },
  {
   "cell_type": "code",
   "execution_count": 8,
   "id": "b8e058a3",
   "metadata": {
    "id": "b8e058a3"
   },
   "outputs": [],
   "source": [
    "company.drop(['domain', 'homepage_url', 'twitter_username', 'logo_url','logo_width', 'logo_height', 'short_description', \n",
    "              'description', 'overview', 'tag_list', 'name','normalized_name', 'permalink', 'invested_companies'], \n",
    "             axis = 1, inplace = True) "
   ]
  },
  {
   "cell_type": "markdown",
   "id": "b813699d",
   "metadata": {
    "id": "b813699d"
   },
   "source": [
    "#### 1.d. Delete duplicate values if found any."
   ]
  },
  {
   "cell_type": "code",
   "execution_count": 9,
   "id": "fa43a11d",
   "metadata": {
    "id": "fa43a11d"
   },
   "outputs": [
    {
     "data": {
      "text/plain": [
       "87089"
      ]
     },
     "execution_count": 9,
     "metadata": {},
     "output_type": "execute_result"
    }
   ],
   "source": [
    "company.duplicated().sum() # count of duplicated values"
   ]
  },
  {
   "cell_type": "code",
   "execution_count": 10,
   "id": "15d433c4",
   "metadata": {
    "id": "15d433c4"
   },
   "outputs": [],
   "source": [
    "company.drop_duplicates(inplace=True) # delete duplicates"
   ]
  },
  {
   "cell_type": "code",
   "execution_count": 11,
   "id": "f7c84717",
   "metadata": {
    "id": "f7c84717"
   },
   "outputs": [
    {
     "data": {
      "text/plain": [
       "0"
      ]
     },
     "execution_count": 11,
     "metadata": {},
     "output_type": "execute_result"
    }
   ],
   "source": [
    "# check if any left\n",
    "company.duplicated().sum()"
   ]
  },
  {
   "cell_type": "markdown",
   "id": "1714f99e",
   "metadata": {
    "id": "1714f99e"
   },
   "source": [
    "#### 1.e. Delete those which has more than 98% of null values."
   ]
  },
  {
   "cell_type": "code",
   "execution_count": 12,
   "id": "82200e57",
   "metadata": {
    "id": "82200e57"
   },
   "outputs": [
    {
     "data": {
      "text/plain": [
       "category_code           12230\n",
       "status                      0\n",
       "founded_at              26913\n",
       "closed_at              106845\n",
       "country_code            24870\n",
       "first_investment_at    107217\n",
       "last_investment_at     107217\n",
       "investment_rounds      107213\n",
       "first_funding_at        77992\n",
       "last_funding_at         77992\n",
       "funding_rounds          77793\n",
       "funding_total_usd       81602\n",
       "first_milestone_at      53353\n",
       "last_milestone_at       53353\n",
       "milestones              53353\n",
       "relationships           34403\n",
       "lat                     28363\n",
       "lng                     28363\n",
       "ROI                    108738\n",
       "dtype: int64"
      ]
     },
     "execution_count": 12,
     "metadata": {},
     "output_type": "execute_result"
    }
   ],
   "source": [
    "company.isna().sum() # number of null values per column"
   ]
  },
  {
   "cell_type": "code",
   "execution_count": 13,
   "id": "9167b303",
   "metadata": {},
   "outputs": [
    {
     "data": {
      "text/plain": [
       "109464"
      ]
     },
     "execution_count": 13,
     "metadata": {},
     "output_type": "execute_result"
    }
   ],
   "source": [
    "company.isna().any(axis = 1).sum() # total number of null values"
   ]
  },
  {
   "cell_type": "code",
   "execution_count": 14,
   "id": "1fe365c3",
   "metadata": {},
   "outputs": [
    {
     "data": {
      "text/html": [
       "<div>\n",
       "<style scoped>\n",
       "    .dataframe tbody tr th:only-of-type {\n",
       "        vertical-align: middle;\n",
       "    }\n",
       "\n",
       "    .dataframe tbody tr th {\n",
       "        vertical-align: top;\n",
       "    }\n",
       "\n",
       "    .dataframe thead th {\n",
       "        text-align: right;\n",
       "    }\n",
       "</style>\n",
       "<table border=\"1\" class=\"dataframe\">\n",
       "  <thead>\n",
       "    <tr style=\"text-align: right;\">\n",
       "      <th></th>\n",
       "      <th>0</th>\n",
       "    </tr>\n",
       "  </thead>\n",
       "  <tbody>\n",
       "    <tr>\n",
       "      <th>category_code</th>\n",
       "      <td>11.172623</td>\n",
       "    </tr>\n",
       "    <tr>\n",
       "      <th>status</th>\n",
       "      <td>0.000000</td>\n",
       "    </tr>\n",
       "    <tr>\n",
       "      <th>founded_at</th>\n",
       "      <td>24.586165</td>\n",
       "    </tr>\n",
       "    <tr>\n",
       "      <th>closed_at</th>\n",
       "      <td>97.607433</td>\n",
       "    </tr>\n",
       "    <tr>\n",
       "      <th>country_code</th>\n",
       "      <td>22.719798</td>\n",
       "    </tr>\n",
       "    <tr>\n",
       "      <th>first_investment_at</th>\n",
       "      <td>97.947270</td>\n",
       "    </tr>\n",
       "    <tr>\n",
       "      <th>last_investment_at</th>\n",
       "      <td>97.947270</td>\n",
       "    </tr>\n",
       "    <tr>\n",
       "      <th>investment_rounds</th>\n",
       "      <td>97.943616</td>\n",
       "    </tr>\n",
       "    <tr>\n",
       "      <th>first_funding_at</th>\n",
       "      <td>71.248995</td>\n",
       "    </tr>\n",
       "    <tr>\n",
       "      <th>last_funding_at</th>\n",
       "      <td>71.248995</td>\n",
       "    </tr>\n",
       "    <tr>\n",
       "      <th>funding_rounds</th>\n",
       "      <td>71.067200</td>\n",
       "    </tr>\n",
       "    <tr>\n",
       "      <th>funding_total_usd</th>\n",
       "      <td>74.546883</td>\n",
       "    </tr>\n",
       "    <tr>\n",
       "      <th>first_milestone_at</th>\n",
       "      <td>48.740225</td>\n",
       "    </tr>\n",
       "    <tr>\n",
       "      <th>last_milestone_at</th>\n",
       "      <td>48.740225</td>\n",
       "    </tr>\n",
       "    <tr>\n",
       "      <th>milestones</th>\n",
       "      <td>48.740225</td>\n",
       "    </tr>\n",
       "    <tr>\n",
       "      <th>relationships</th>\n",
       "      <td>31.428598</td>\n",
       "    </tr>\n",
       "    <tr>\n",
       "      <th>lat</th>\n",
       "      <td>25.910802</td>\n",
       "    </tr>\n",
       "    <tr>\n",
       "      <th>lng</th>\n",
       "      <td>25.910802</td>\n",
       "    </tr>\n",
       "    <tr>\n",
       "      <th>ROI</th>\n",
       "      <td>99.336768</td>\n",
       "    </tr>\n",
       "  </tbody>\n",
       "</table>\n",
       "</div>"
      ],
      "text/plain": [
       "                             0\n",
       "category_code        11.172623\n",
       "status                0.000000\n",
       "founded_at           24.586165\n",
       "closed_at            97.607433\n",
       "country_code         22.719798\n",
       "first_investment_at  97.947270\n",
       "last_investment_at   97.947270\n",
       "investment_rounds    97.943616\n",
       "first_funding_at     71.248995\n",
       "last_funding_at      71.248995\n",
       "funding_rounds       71.067200\n",
       "funding_total_usd    74.546883\n",
       "first_milestone_at   48.740225\n",
       "last_milestone_at    48.740225\n",
       "milestones           48.740225\n",
       "relationships        31.428598\n",
       "lat                  25.910802\n",
       "lng                  25.910802\n",
       "ROI                  99.336768"
      ]
     },
     "execution_count": 14,
     "metadata": {},
     "output_type": "execute_result"
    }
   ],
   "source": [
    "col_percent = pd.DataFrame(company.isnull().sum() * 100 / len(company)) # percentage of null values\n",
    "col_percent"
   ]
  },
  {
   "cell_type": "code",
   "execution_count": 15,
   "id": "0110cd60",
   "metadata": {},
   "outputs": [],
   "source": [
    "# drop columns with more then 98% null values\n",
    "for col in col_percent.index:\n",
    "    if col_percent.loc[col,0] > 98:\n",
    "        company.drop(col, axis = 1, inplace=True)"
   ]
  },
  {
   "cell_type": "markdown",
   "id": "4666865e",
   "metadata": {
    "id": "4666865e"
   },
   "source": [
    "#### 2.a. Delete instances with missing values for 'status', 'country_code', 'category_code' and 'founded_at'.\n",
    "    (Since these are the type of data where adding value via imputation will create wrong pattern only)"
   ]
  },
  {
   "cell_type": "code",
   "execution_count": 16,
   "id": "bcc03c97",
   "metadata": {
    "id": "bcc03c97"
   },
   "outputs": [],
   "source": [
    "company = company.dropna( how='any',subset=['status', 'country_code', 'category_code','founded_at'])"
   ]
  },
  {
   "cell_type": "code",
   "execution_count": 17,
   "id": "52e2c90e",
   "metadata": {
    "id": "52e2c90e",
    "scrolled": true
   },
   "outputs": [
    {
     "data": {
      "text/plain": [
       "63581"
      ]
     },
     "execution_count": 17,
     "metadata": {},
     "output_type": "execute_result"
    }
   ],
   "source": [
    "company.isna().any(axis=1).sum() # total null values"
   ]
  },
  {
   "cell_type": "markdown",
   "id": "2452f22e",
   "metadata": {
    "id": "2452f22e"
   },
   "source": [
    "#### 2.b. Delete outliers for 'funding_total_usd' and 'funding_rounds'."
   ]
  },
  {
   "cell_type": "code",
   "execution_count": 18,
   "id": "a7baa120",
   "metadata": {
    "id": "a7baa120"
   },
   "outputs": [
    {
     "data": {
      "text/plain": [
       "<AxesSubplot:xlabel='funding_total_usd'>"
      ]
     },
     "execution_count": 18,
     "metadata": {},
     "output_type": "execute_result"
    },
    {
     "data": {
      "image/png": "[encoded data removed]",
      "text/plain": [
       "<Figure size 432x288 with 1 Axes>"
      ]
     },
     "metadata": {},
     "output_type": "display_data"
    }
   ],
   "source": [
    "sns.boxplot(company['funding_total_usd'])"
   ]
  },
  {
   "cell_type": "code",
   "execution_count": 19,
   "id": "8c9d96cd",
   "metadata": {},
   "outputs": [
    {
     "data": {
      "text/plain": [
       "(array([ 1173,  1543,  2344, 17438, 25745, 29511, 44165, 49090, 53118,\n",
       "        54984, 55189, 57302], dtype=int64),)"
      ]
     },
     "execution_count": 19,
     "metadata": {},
     "output_type": "execute_result"
    }
   ],
   "source": [
    "np.where(company['funding_total_usd'] > 1.0e9)"
   ]
  },
  {
   "cell_type": "code",
   "execution_count": 20,
   "id": "d902b0dd",
   "metadata": {},
   "outputs": [
    {
     "data": {
      "text/plain": [
       "<AxesSubplot:xlabel='funding_rounds'>"
      ]
     },
     "execution_count": 20,
     "metadata": {},
     "output_type": "execute_result"
    },
    {
     "data": {
      "image/png": "[encoded data removed]",
      "text/plain": [
       "<Figure size 432x288 with 1 Axes>"
      ]
     },
     "metadata": {},
     "output_type": "display_data"
    }
   ],
   "source": [
    "sns.boxplot(company['funding_rounds'])"
   ]
  },
  {
   "cell_type": "code",
   "execution_count": 21,
   "id": "2e2a4dca",
   "metadata": {},
   "outputs": [
    {
     "data": {
      "text/plain": [
       "(array([    7,    40,    77, ..., 63491, 63556, 63569], dtype=int64),)"
      ]
     },
     "execution_count": 21,
     "metadata": {},
     "output_type": "execute_result"
    }
   ],
   "source": [
    "np.where(company['funding_rounds'] >= 4)"
   ]
  },
  {
   "cell_type": "markdown",
   "id": "3d5d33d2",
   "metadata": {
    "id": "3d5d33d2"
   },
   "source": [
    "we can see the outlier in both 'funding_total_usd' and 'funding_rounds'. So, let's find them and drop it.\n",
    "\n",
    "    1. Find the IQR (Interquartile Range)\n",
    "    2. Find the upper and lower limit\n",
    "    3. Find outliers\n",
    "    4. Drop them\n",
    "    5. Compare the plots after trimming \n"
   ]
  },
  {
   "cell_type": "markdown",
   "id": "0d158e60",
   "metadata": {
    "id": "0d158e60"
   },
   "source": [
    "#### 2.b.1. Find the IQR"
   ]
  },
  {
   "cell_type": "code",
   "execution_count": 22,
   "id": "61ab4f32",
   "metadata": {
    "id": "61ab4f32"
   },
   "outputs": [],
   "source": [
    "# For funding_total_usd\n",
    "Q1_ftu = company.funding_total_usd.quantile(0.25)\n",
    " \n",
    "Q3_ftu = company.funding_total_usd.quantile(0.75)\n",
    "\n",
    "IQR_ftu = Q3_ftu - Q1_ftu\n",
    "\n",
    "# For funding_rounds\n",
    "Q1_fr = company.funding_rounds.quantile(0.25)\n",
    " \n",
    "Q3_fr = company.funding_rounds.quantile(0.75)\n",
    "\n",
    "IQR_fr = Q3_fr - Q1_fr\n"
   ]
  },
  {
   "cell_type": "markdown",
   "id": "5d0d9e4a",
   "metadata": {
    "id": "5d0d9e4a"
   },
   "source": [
    "#### 2.b.1. Find the Upper and Lower limit"
   ]
  },
  {
   "cell_type": "code",
   "execution_count": 23,
   "id": "3d5b2a12",
   "metadata": {
    "id": "3d5b2a12"
   },
   "outputs": [],
   "source": [
    "# For funding_total_usd\n",
    "upper_ftu = Q3_ftu+1.5*IQR_ftu\n",
    "lower_ftu = Q1_ftu-1.5*IQR_ftu\n",
    "\n",
    "# For funding_rounds\n",
    "upper_fr = Q3_fr+1.5*IQR_fr\n",
    "lower_fr = Q1_fr-1.5*IQR_fr"
   ]
  },
  {
   "cell_type": "markdown",
   "id": "66dc08d6",
   "metadata": {
    "id": "66dc08d6"
   },
   "source": [
    "#### 2.b.1.  Find outliers"
   ]
  },
  {
   "cell_type": "code",
   "execution_count": 24,
   "id": "48a4c169",
   "metadata": {
    "id": "48a4c169"
   },
   "outputs": [],
   "source": [
    "# For funding_total_usd\n",
    "outlier_ftu = company.loc[(company.funding_total_usd < lower_ftu) | (company.funding_total_usd > upper_ftu)]\n",
    "\n",
    "# For funding_rounds\n",
    "outlier_fr = company.loc[(company.funding_rounds < lower_fr) | (company.funding_rounds > upper_fr)]"
   ]
  },
  {
   "cell_type": "markdown",
   "id": "9b140213",
   "metadata": {
    "id": "9b140213"
   },
   "source": [
    "#### 2.b.1. Drop the outliers"
   ]
  },
  {
   "cell_type": "code",
   "execution_count": 25,
   "id": "5a048db8",
   "metadata": {
    "id": "5a048db8"
   },
   "outputs": [],
   "source": [
    "# For funding_total_usd\n",
    "company = company.loc[(company.funding_total_usd > lower_ftu) & (company.funding_total_usd < upper_ftu)]\n",
    "\n",
    "# For funding_rounds\n",
    "company = company.loc[(company.funding_rounds > lower_fr) & (company.funding_rounds < upper_fr)]\n",
    "   "
   ]
  },
  {
   "cell_type": "markdown",
   "id": "cee3dc2b",
   "metadata": {
    "id": "cee3dc2b"
   },
   "source": [
    "# B. Date Transformation\n",
    "    It can be divided into two successive phases.\n",
    "   ## 1. Changes in original data\n",
    "        a. Convert founded_at, closed_at, first_funded_at, last_funding_at, first_milestone_at ,\n",
    "           last_milestone_at to years.\n",
    "        b. Generalize the categorical data i.e. category_code, status and category_code.\n",
    "   ## 2. Create new variables\n",
    "        a. Create new feature isClosed from closed_at and status.\n",
    "        b. Create new feature 'active_days'"
   ]
  },
  {
   "cell_type": "markdown",
   "id": "933f43e1",
   "metadata": {
    "id": "933f43e1"
   },
   "source": [
    "#### 1.a. Convert founded_at, closed_at, first_funded_at, last_funding_at, first_milestone_at , last_milestone_at to years."
   ]
  },
  {
   "cell_type": "code",
   "execution_count": 26,
   "id": "00a28603",
   "metadata": {},
   "outputs": [],
   "source": [
    "from datetime import datetime"
   ]
  },
  {
   "cell_type": "code",
   "execution_count": 27,
   "id": "281ba13e",
   "metadata": {
    "id": "281ba13e"
   },
   "outputs": [],
   "source": [
    "date_columns = ['founded_at', 'closed_at', 'first_funding_at', 'last_funding_at', 'first_milestone_at', 'last_milestone_at']\n",
    "\n",
    "for col in date_columns:\n",
    "    company[col] = pd.to_datetime(company[col]).dt.year"
   ]
  },
  {
   "cell_type": "markdown",
   "id": "cda991d8",
   "metadata": {
    "id": "cda991d8"
   },
   "source": [
    " #### 1.b. Generalize the categorical data i.e. category_code and  country_code "
   ]
  },
  {
   "cell_type": "code",
   "execution_count": 28,
   "id": "becc9a9e",
   "metadata": {},
   "outputs": [],
   "source": [
    "from sklearn.preprocessing import OneHotEncoder"
   ]
  },
  {
   "cell_type": "code",
   "execution_count": 29,
   "id": "a230ddba",
   "metadata": {},
   "outputs": [],
   "source": [
    "OH_encoder = OneHotEncoder(handle_unknown='ignore', sparse=False)"
   ]
  },
  {
   "cell_type": "code",
   "execution_count": 30,
   "id": "b7b0f5b3",
   "metadata": {},
   "outputs": [],
   "source": [
    "OH_company = pd.DataFrame(OH_encoder.fit_transform(company[['category_code', 'country_code']]))"
   ]
  },
  {
   "cell_type": "code",
   "execution_count": 31,
   "id": "6f6b0aa9",
   "metadata": {},
   "outputs": [],
   "source": [
    "# One-hot encoding removed index; put it back\n",
    "OH_company.index = company.index"
   ]
  },
  {
   "cell_type": "code",
   "execution_count": 32,
   "id": "c5365874",
   "metadata": {},
   "outputs": [],
   "source": [
    "# Remove categorical columns (will replace with one-hot encoding)\n",
    "company = company.drop(['category_code', 'country_code'], axis=1)"
   ]
  },
  {
   "cell_type": "code",
   "execution_count": 33,
   "id": "e4fdd142",
   "metadata": {},
   "outputs": [],
   "source": [
    "# Add one-hot encoded columns to numerical features\n",
    "company = pd.concat([company, OH_company], axis=1)"
   ]
  },
  {
   "cell_type": "markdown",
   "id": "25a0b0b1",
   "metadata": {
    "id": "25a0b0b1"
   },
   "source": [
    "### 2. Create new variables¶\n",
    "    a. Create new feature isClosed from closed_at and status.\n",
    "    b. Create new feature 'active_days'"
   ]
  },
  {
   "cell_type": "markdown",
   "id": "bea27974",
   "metadata": {
    "id": "bea27974"
   },
   "source": [
    "#### 2.a. Create new feature isClosed from closed_at and status.\n",
    "     - if the value in status is 'operating' or 'ipo', Let's put 1.\n",
    "     - Where as if the value is 'acquired' or 'closed', let's put 0."
   ]
  },
  {
   "cell_type": "code",
   "execution_count": 34,
   "id": "eb3dfc50",
   "metadata": {
    "id": "eb3dfc50"
   },
   "outputs": [],
   "source": [
    "for i in list(company.index):\n",
    "    company.loc[company['status'] == 'operating', 'isClosed'] = 1\n",
    "    company.loc[company['status'] == 'ipo', 'isClosed'] = 1\n",
    "    company.loc[company['status'] == 'acquired', 'isClosed'] = 0\n",
    "    company.loc[company['status'] == 'closed', 'isClosed'] = 0"
   ]
  },
  {
   "cell_type": "code",
   "execution_count": 35,
   "id": "b7a6bc0b",
   "metadata": {
    "id": "b7a6bc0b",
    "scrolled": true
   },
   "outputs": [
    {
     "data": {
      "text/html": [
       "<div>\n",
       "<style scoped>\n",
       "    .dataframe tbody tr th:only-of-type {\n",
       "        vertical-align: middle;\n",
       "    }\n",
       "\n",
       "    .dataframe tbody tr th {\n",
       "        vertical-align: top;\n",
       "    }\n",
       "\n",
       "    .dataframe thead th {\n",
       "        text-align: right;\n",
       "    }\n",
       "</style>\n",
       "<table border=\"1\" class=\"dataframe\">\n",
       "  <thead>\n",
       "    <tr style=\"text-align: right;\">\n",
       "      <th></th>\n",
       "      <th>status</th>\n",
       "      <th>founded_at</th>\n",
       "      <th>closed_at</th>\n",
       "      <th>first_investment_at</th>\n",
       "      <th>last_investment_at</th>\n",
       "      <th>investment_rounds</th>\n",
       "      <th>first_funding_at</th>\n",
       "      <th>last_funding_at</th>\n",
       "      <th>funding_rounds</th>\n",
       "      <th>funding_total_usd</th>\n",
       "      <th>...</th>\n",
       "      <th>141</th>\n",
       "      <th>142</th>\n",
       "      <th>143</th>\n",
       "      <th>144</th>\n",
       "      <th>145</th>\n",
       "      <th>146</th>\n",
       "      <th>147</th>\n",
       "      <th>148</th>\n",
       "      <th>149</th>\n",
       "      <th>isClosed</th>\n",
       "    </tr>\n",
       "  </thead>\n",
       "  <tbody>\n",
       "    <tr>\n",
       "      <th>13</th>\n",
       "      <td>acquired</td>\n",
       "      <td>2007</td>\n",
       "      <td>NaN</td>\n",
       "      <td>NaN</td>\n",
       "      <td>NaN</td>\n",
       "      <td>NaN</td>\n",
       "      <td>2008.0</td>\n",
       "      <td>2008.0</td>\n",
       "      <td>1.0</td>\n",
       "      <td>5000000.0</td>\n",
       "      <td>...</td>\n",
       "      <td>0.0</td>\n",
       "      <td>0.0</td>\n",
       "      <td>0.0</td>\n",
       "      <td>0.0</td>\n",
       "      <td>1.0</td>\n",
       "      <td>0.0</td>\n",
       "      <td>0.0</td>\n",
       "      <td>0.0</td>\n",
       "      <td>0.0</td>\n",
       "      <td>0.0</td>\n",
       "    </tr>\n",
       "    <tr>\n",
       "      <th>20</th>\n",
       "      <td>operating</td>\n",
       "      <td>2003</td>\n",
       "      <td>NaN</td>\n",
       "      <td>NaN</td>\n",
       "      <td>NaN</td>\n",
       "      <td>NaN</td>\n",
       "      <td>2011.0</td>\n",
       "      <td>2012.0</td>\n",
       "      <td>3.0</td>\n",
       "      <td>10125293.0</td>\n",
       "      <td>...</td>\n",
       "      <td>0.0</td>\n",
       "      <td>0.0</td>\n",
       "      <td>0.0</td>\n",
       "      <td>0.0</td>\n",
       "      <td>1.0</td>\n",
       "      <td>0.0</td>\n",
       "      <td>0.0</td>\n",
       "      <td>0.0</td>\n",
       "      <td>0.0</td>\n",
       "      <td>1.0</td>\n",
       "    </tr>\n",
       "    <tr>\n",
       "      <th>26</th>\n",
       "      <td>operating</td>\n",
       "      <td>2003</td>\n",
       "      <td>NaN</td>\n",
       "      <td>NaN</td>\n",
       "      <td>NaN</td>\n",
       "      <td>NaN</td>\n",
       "      <td>2003.0</td>\n",
       "      <td>2003.0</td>\n",
       "      <td>1.0</td>\n",
       "      <td>250000.0</td>\n",
       "      <td>...</td>\n",
       "      <td>0.0</td>\n",
       "      <td>0.0</td>\n",
       "      <td>0.0</td>\n",
       "      <td>0.0</td>\n",
       "      <td>0.0</td>\n",
       "      <td>0.0</td>\n",
       "      <td>0.0</td>\n",
       "      <td>0.0</td>\n",
       "      <td>0.0</td>\n",
       "      <td>1.0</td>\n",
       "    </tr>\n",
       "    <tr>\n",
       "      <th>32</th>\n",
       "      <td>operating</td>\n",
       "      <td>2010</td>\n",
       "      <td>NaN</td>\n",
       "      <td>NaN</td>\n",
       "      <td>NaN</td>\n",
       "      <td>NaN</td>\n",
       "      <td>2011.0</td>\n",
       "      <td>2011.0</td>\n",
       "      <td>1.0</td>\n",
       "      <td>100000.0</td>\n",
       "      <td>...</td>\n",
       "      <td>0.0</td>\n",
       "      <td>0.0</td>\n",
       "      <td>0.0</td>\n",
       "      <td>0.0</td>\n",
       "      <td>1.0</td>\n",
       "      <td>0.0</td>\n",
       "      <td>0.0</td>\n",
       "      <td>0.0</td>\n",
       "      <td>0.0</td>\n",
       "      <td>1.0</td>\n",
       "    </tr>\n",
       "    <tr>\n",
       "      <th>36</th>\n",
       "      <td>operating</td>\n",
       "      <td>2006</td>\n",
       "      <td>NaN</td>\n",
       "      <td>NaN</td>\n",
       "      <td>NaN</td>\n",
       "      <td>NaN</td>\n",
       "      <td>2011.0</td>\n",
       "      <td>2012.0</td>\n",
       "      <td>2.0</td>\n",
       "      <td>11300000.0</td>\n",
       "      <td>...</td>\n",
       "      <td>0.0</td>\n",
       "      <td>0.0</td>\n",
       "      <td>0.0</td>\n",
       "      <td>0.0</td>\n",
       "      <td>1.0</td>\n",
       "      <td>0.0</td>\n",
       "      <td>0.0</td>\n",
       "      <td>0.0</td>\n",
       "      <td>0.0</td>\n",
       "      <td>1.0</td>\n",
       "    </tr>\n",
       "    <tr>\n",
       "      <th>...</th>\n",
       "      <td>...</td>\n",
       "      <td>...</td>\n",
       "      <td>...</td>\n",
       "      <td>...</td>\n",
       "      <td>...</td>\n",
       "      <td>...</td>\n",
       "      <td>...</td>\n",
       "      <td>...</td>\n",
       "      <td>...</td>\n",
       "      <td>...</td>\n",
       "      <td>...</td>\n",
       "      <td>...</td>\n",
       "      <td>...</td>\n",
       "      <td>...</td>\n",
       "      <td>...</td>\n",
       "      <td>...</td>\n",
       "      <td>...</td>\n",
       "      <td>...</td>\n",
       "      <td>...</td>\n",
       "      <td>...</td>\n",
       "      <td>...</td>\n",
       "    </tr>\n",
       "    <tr>\n",
       "      <th>196526</th>\n",
       "      <td>closed</td>\n",
       "      <td>2008</td>\n",
       "      <td>2012.0</td>\n",
       "      <td>NaN</td>\n",
       "      <td>NaN</td>\n",
       "      <td>NaN</td>\n",
       "      <td>2008.0</td>\n",
       "      <td>2008.0</td>\n",
       "      <td>1.0</td>\n",
       "      <td>130000.0</td>\n",
       "      <td>...</td>\n",
       "      <td>0.0</td>\n",
       "      <td>0.0</td>\n",
       "      <td>0.0</td>\n",
       "      <td>0.0</td>\n",
       "      <td>1.0</td>\n",
       "      <td>0.0</td>\n",
       "      <td>0.0</td>\n",
       "      <td>0.0</td>\n",
       "      <td>0.0</td>\n",
       "      <td>0.0</td>\n",
       "    </tr>\n",
       "    <tr>\n",
       "      <th>196537</th>\n",
       "      <td>operating</td>\n",
       "      <td>2011</td>\n",
       "      <td>NaN</td>\n",
       "      <td>NaN</td>\n",
       "      <td>NaN</td>\n",
       "      <td>NaN</td>\n",
       "      <td>2011.0</td>\n",
       "      <td>2011.0</td>\n",
       "      <td>1.0</td>\n",
       "      <td>500000.0</td>\n",
       "      <td>...</td>\n",
       "      <td>0.0</td>\n",
       "      <td>0.0</td>\n",
       "      <td>0.0</td>\n",
       "      <td>0.0</td>\n",
       "      <td>0.0</td>\n",
       "      <td>0.0</td>\n",
       "      <td>0.0</td>\n",
       "      <td>0.0</td>\n",
       "      <td>0.0</td>\n",
       "      <td>1.0</td>\n",
       "    </tr>\n",
       "    <tr>\n",
       "      <th>196540</th>\n",
       "      <td>closed</td>\n",
       "      <td>2006</td>\n",
       "      <td>2012.0</td>\n",
       "      <td>NaN</td>\n",
       "      <td>NaN</td>\n",
       "      <td>NaN</td>\n",
       "      <td>2008.0</td>\n",
       "      <td>2009.0</td>\n",
       "      <td>2.0</td>\n",
       "      <td>1100000.0</td>\n",
       "      <td>...</td>\n",
       "      <td>0.0</td>\n",
       "      <td>0.0</td>\n",
       "      <td>0.0</td>\n",
       "      <td>0.0</td>\n",
       "      <td>1.0</td>\n",
       "      <td>0.0</td>\n",
       "      <td>0.0</td>\n",
       "      <td>0.0</td>\n",
       "      <td>0.0</td>\n",
       "      <td>0.0</td>\n",
       "    </tr>\n",
       "    <tr>\n",
       "      <th>196549</th>\n",
       "      <td>operating</td>\n",
       "      <td>2007</td>\n",
       "      <td>NaN</td>\n",
       "      <td>NaN</td>\n",
       "      <td>NaN</td>\n",
       "      <td>NaN</td>\n",
       "      <td>2008.0</td>\n",
       "      <td>2008.0</td>\n",
       "      <td>1.0</td>\n",
       "      <td>750000.0</td>\n",
       "      <td>...</td>\n",
       "      <td>0.0</td>\n",
       "      <td>0.0</td>\n",
       "      <td>0.0</td>\n",
       "      <td>0.0</td>\n",
       "      <td>1.0</td>\n",
       "      <td>0.0</td>\n",
       "      <td>0.0</td>\n",
       "      <td>0.0</td>\n",
       "      <td>0.0</td>\n",
       "      <td>1.0</td>\n",
       "    </tr>\n",
       "    <tr>\n",
       "      <th>196552</th>\n",
       "      <td>operating</td>\n",
       "      <td>2007</td>\n",
       "      <td>NaN</td>\n",
       "      <td>NaN</td>\n",
       "      <td>NaN</td>\n",
       "      <td>NaN</td>\n",
       "      <td>2008.0</td>\n",
       "      <td>2008.0</td>\n",
       "      <td>1.0</td>\n",
       "      <td>475000.0</td>\n",
       "      <td>...</td>\n",
       "      <td>0.0</td>\n",
       "      <td>0.0</td>\n",
       "      <td>0.0</td>\n",
       "      <td>0.0</td>\n",
       "      <td>1.0</td>\n",
       "      <td>0.0</td>\n",
       "      <td>0.0</td>\n",
       "      <td>0.0</td>\n",
       "      <td>0.0</td>\n",
       "      <td>1.0</td>\n",
       "    </tr>\n",
       "  </tbody>\n",
       "</table>\n",
       "<p>16880 rows × 167 columns</p>\n",
       "</div>"
      ],
      "text/plain": [
       "           status  founded_at  closed_at first_investment_at  \\\n",
       "13       acquired        2007        NaN                 NaN   \n",
       "20      operating        2003        NaN                 NaN   \n",
       "26      operating        2003        NaN                 NaN   \n",
       "32      operating        2010        NaN                 NaN   \n",
       "36      operating        2006        NaN                 NaN   \n",
       "...           ...         ...        ...                 ...   \n",
       "196526     closed        2008     2012.0                 NaN   \n",
       "196537  operating        2011        NaN                 NaN   \n",
       "196540     closed        2006     2012.0                 NaN   \n",
       "196549  operating        2007        NaN                 NaN   \n",
       "196552  operating        2007        NaN                 NaN   \n",
       "\n",
       "       last_investment_at  investment_rounds  first_funding_at  \\\n",
       "13                    NaN                NaN            2008.0   \n",
       "20                    NaN                NaN            2011.0   \n",
       "26                    NaN                NaN            2003.0   \n",
       "32                    NaN                NaN            2011.0   \n",
       "36                    NaN                NaN            2011.0   \n",
       "...                   ...                ...               ...   \n",
       "196526                NaN                NaN            2008.0   \n",
       "196537                NaN                NaN            2011.0   \n",
       "196540                NaN                NaN            2008.0   \n",
       "196549                NaN                NaN            2008.0   \n",
       "196552                NaN                NaN            2008.0   \n",
       "\n",
       "        last_funding_at  funding_rounds  funding_total_usd  ...  141  142  \\\n",
       "13               2008.0             1.0          5000000.0  ...  0.0  0.0   \n",
       "20               2012.0             3.0         10125293.0  ...  0.0  0.0   \n",
       "26               2003.0             1.0           250000.0  ...  0.0  0.0   \n",
       "32               2011.0             1.0           100000.0  ...  0.0  0.0   \n",
       "36               2012.0             2.0         11300000.0  ...  0.0  0.0   \n",
       "...                 ...             ...                ...  ...  ...  ...   \n",
       "196526           2008.0             1.0           130000.0  ...  0.0  0.0   \n",
       "196537           2011.0             1.0           500000.0  ...  0.0  0.0   \n",
       "196540           2009.0             2.0          1100000.0  ...  0.0  0.0   \n",
       "196549           2008.0             1.0           750000.0  ...  0.0  0.0   \n",
       "196552           2008.0             1.0           475000.0  ...  0.0  0.0   \n",
       "\n",
       "        143  144  145  146  147  148  149  isClosed  \n",
       "13      0.0  0.0  1.0  0.0  0.0  0.0  0.0       0.0  \n",
       "20      0.0  0.0  1.0  0.0  0.0  0.0  0.0       1.0  \n",
       "26      0.0  0.0  0.0  0.0  0.0  0.0  0.0       1.0  \n",
       "32      0.0  0.0  1.0  0.0  0.0  0.0  0.0       1.0  \n",
       "36      0.0  0.0  1.0  0.0  0.0  0.0  0.0       1.0  \n",
       "...     ...  ...  ...  ...  ...  ...  ...       ...  \n",
       "196526  0.0  0.0  1.0  0.0  0.0  0.0  0.0       0.0  \n",
       "196537  0.0  0.0  0.0  0.0  0.0  0.0  0.0       1.0  \n",
       "196540  0.0  0.0  1.0  0.0  0.0  0.0  0.0       0.0  \n",
       "196549  0.0  0.0  1.0  0.0  0.0  0.0  0.0       1.0  \n",
       "196552  0.0  0.0  1.0  0.0  0.0  0.0  0.0       1.0  \n",
       "\n",
       "[16880 rows x 167 columns]"
      ]
     },
     "execution_count": 35,
     "metadata": {},
     "output_type": "execute_result"
    }
   ],
   "source": [
    "company"
   ]
  },
  {
   "cell_type": "markdown",
   "id": "9305be88",
   "metadata": {
    "id": "9305be88"
   },
   "source": [
    "#### 2.b. Create active_days\n",
    "     i. Replacing values:\n",
    "         -  if the value in status is 'operating' or 'ipo' in closed_at, Let's put 2021.\n",
    "         - Where as if the value is 'acquired' or 'closed', let's put 0.\n",
    "     ii. Subtract founded_date from closed_date, and calculate age in days (After calculating active days, \n",
    "         check contradictory issues we didn't check it before).\n",
    "     iii. Then, delete the closed_at column."
   ]
  },
  {
   "cell_type": "markdown",
   "id": "aea5b15a",
   "metadata": {
    "id": "aea5b15a"
   },
   "source": [
    "##### 2.b.i  Replacing the values in closed_at column\n",
    "   - if the value in status is 'operating' or 'ipo' in closed_at, Let's put 2021.\n",
    "   - Where as if the value is 'acquired' or 'closed', let's put 0."
   ]
  },
  {
   "cell_type": "code",
   "execution_count": 36,
   "id": "27253d01",
   "metadata": {
    "id": "27253d01"
   },
   "outputs": [],
   "source": [
    "for i in list(company.index):\n",
    "    company.loc[company['status'] == 'operating', 'closed_at'] = 2021\n",
    "    company.loc[company['status'] == 'ipo', 'closed_at'] = 2021\n",
    "    company.loc[company['status'] == 'acquired', 'closed_at'] = 0\n",
    "    company.loc[company['status'] == 'closed', 'closed_at'] = 0"
   ]
  },
  {
   "cell_type": "markdown",
   "id": "2b95bd66",
   "metadata": {
    "id": "2b95bd66"
   },
   "source": [
    "##### 2.b.ii Subtract founded_date from closed_date, and calculate age in days (After calculating active days, check contradictory issues we didn't check it before.)"
   ]
  },
  {
   "cell_type": "code",
   "execution_count": 37,
   "id": "b273d43b",
   "metadata": {
    "id": "b273d43b",
    "scrolled": true
   },
   "outputs": [
    {
     "data": {
      "text/html": [
       "<div>\n",
       "<style scoped>\n",
       "    .dataframe tbody tr th:only-of-type {\n",
       "        vertical-align: middle;\n",
       "    }\n",
       "\n",
       "    .dataframe tbody tr th {\n",
       "        vertical-align: top;\n",
       "    }\n",
       "\n",
       "    .dataframe thead th {\n",
       "        text-align: right;\n",
       "    }\n",
       "</style>\n",
       "<table border=\"1\" class=\"dataframe\">\n",
       "  <thead>\n",
       "    <tr style=\"text-align: right;\">\n",
       "      <th></th>\n",
       "      <th>status</th>\n",
       "      <th>founded_at</th>\n",
       "      <th>closed_at</th>\n",
       "      <th>first_investment_at</th>\n",
       "      <th>last_investment_at</th>\n",
       "      <th>investment_rounds</th>\n",
       "      <th>first_funding_at</th>\n",
       "      <th>last_funding_at</th>\n",
       "      <th>funding_rounds</th>\n",
       "      <th>funding_total_usd</th>\n",
       "      <th>...</th>\n",
       "      <th>142</th>\n",
       "      <th>143</th>\n",
       "      <th>144</th>\n",
       "      <th>145</th>\n",
       "      <th>146</th>\n",
       "      <th>147</th>\n",
       "      <th>148</th>\n",
       "      <th>149</th>\n",
       "      <th>isClosed</th>\n",
       "      <th>active_days</th>\n",
       "    </tr>\n",
       "  </thead>\n",
       "  <tbody>\n",
       "    <tr>\n",
       "      <th>13</th>\n",
       "      <td>acquired</td>\n",
       "      <td>2007</td>\n",
       "      <td>0.0</td>\n",
       "      <td>NaN</td>\n",
       "      <td>NaN</td>\n",
       "      <td>NaN</td>\n",
       "      <td>2008.0</td>\n",
       "      <td>2008.0</td>\n",
       "      <td>1.0</td>\n",
       "      <td>5000000.0</td>\n",
       "      <td>...</td>\n",
       "      <td>0.0</td>\n",
       "      <td>0.0</td>\n",
       "      <td>0.0</td>\n",
       "      <td>1.0</td>\n",
       "      <td>0.0</td>\n",
       "      <td>0.0</td>\n",
       "      <td>0.0</td>\n",
       "      <td>0.0</td>\n",
       "      <td>0.0</td>\n",
       "      <td>732555.0</td>\n",
       "    </tr>\n",
       "    <tr>\n",
       "      <th>20</th>\n",
       "      <td>operating</td>\n",
       "      <td>2003</td>\n",
       "      <td>2021.0</td>\n",
       "      <td>NaN</td>\n",
       "      <td>NaN</td>\n",
       "      <td>NaN</td>\n",
       "      <td>2011.0</td>\n",
       "      <td>2012.0</td>\n",
       "      <td>3.0</td>\n",
       "      <td>10125293.0</td>\n",
       "      <td>...</td>\n",
       "      <td>0.0</td>\n",
       "      <td>0.0</td>\n",
       "      <td>0.0</td>\n",
       "      <td>1.0</td>\n",
       "      <td>0.0</td>\n",
       "      <td>0.0</td>\n",
       "      <td>0.0</td>\n",
       "      <td>0.0</td>\n",
       "      <td>1.0</td>\n",
       "      <td>6570.0</td>\n",
       "    </tr>\n",
       "    <tr>\n",
       "      <th>26</th>\n",
       "      <td>operating</td>\n",
       "      <td>2003</td>\n",
       "      <td>2021.0</td>\n",
       "      <td>NaN</td>\n",
       "      <td>NaN</td>\n",
       "      <td>NaN</td>\n",
       "      <td>2003.0</td>\n",
       "      <td>2003.0</td>\n",
       "      <td>1.0</td>\n",
       "      <td>250000.0</td>\n",
       "      <td>...</td>\n",
       "      <td>0.0</td>\n",
       "      <td>0.0</td>\n",
       "      <td>0.0</td>\n",
       "      <td>0.0</td>\n",
       "      <td>0.0</td>\n",
       "      <td>0.0</td>\n",
       "      <td>0.0</td>\n",
       "      <td>0.0</td>\n",
       "      <td>1.0</td>\n",
       "      <td>6570.0</td>\n",
       "    </tr>\n",
       "    <tr>\n",
       "      <th>32</th>\n",
       "      <td>operating</td>\n",
       "      <td>2010</td>\n",
       "      <td>2021.0</td>\n",
       "      <td>NaN</td>\n",
       "      <td>NaN</td>\n",
       "      <td>NaN</td>\n",
       "      <td>2011.0</td>\n",
       "      <td>2011.0</td>\n",
       "      <td>1.0</td>\n",
       "      <td>100000.0</td>\n",
       "      <td>...</td>\n",
       "      <td>0.0</td>\n",
       "      <td>0.0</td>\n",
       "      <td>0.0</td>\n",
       "      <td>1.0</td>\n",
       "      <td>0.0</td>\n",
       "      <td>0.0</td>\n",
       "      <td>0.0</td>\n",
       "      <td>0.0</td>\n",
       "      <td>1.0</td>\n",
       "      <td>4015.0</td>\n",
       "    </tr>\n",
       "    <tr>\n",
       "      <th>36</th>\n",
       "      <td>operating</td>\n",
       "      <td>2006</td>\n",
       "      <td>2021.0</td>\n",
       "      <td>NaN</td>\n",
       "      <td>NaN</td>\n",
       "      <td>NaN</td>\n",
       "      <td>2011.0</td>\n",
       "      <td>2012.0</td>\n",
       "      <td>2.0</td>\n",
       "      <td>11300000.0</td>\n",
       "      <td>...</td>\n",
       "      <td>0.0</td>\n",
       "      <td>0.0</td>\n",
       "      <td>0.0</td>\n",
       "      <td>1.0</td>\n",
       "      <td>0.0</td>\n",
       "      <td>0.0</td>\n",
       "      <td>0.0</td>\n",
       "      <td>0.0</td>\n",
       "      <td>1.0</td>\n",
       "      <td>5475.0</td>\n",
       "    </tr>\n",
       "    <tr>\n",
       "      <th>...</th>\n",
       "      <td>...</td>\n",
       "      <td>...</td>\n",
       "      <td>...</td>\n",
       "      <td>...</td>\n",
       "      <td>...</td>\n",
       "      <td>...</td>\n",
       "      <td>...</td>\n",
       "      <td>...</td>\n",
       "      <td>...</td>\n",
       "      <td>...</td>\n",
       "      <td>...</td>\n",
       "      <td>...</td>\n",
       "      <td>...</td>\n",
       "      <td>...</td>\n",
       "      <td>...</td>\n",
       "      <td>...</td>\n",
       "      <td>...</td>\n",
       "      <td>...</td>\n",
       "      <td>...</td>\n",
       "      <td>...</td>\n",
       "      <td>...</td>\n",
       "    </tr>\n",
       "    <tr>\n",
       "      <th>196526</th>\n",
       "      <td>closed</td>\n",
       "      <td>2008</td>\n",
       "      <td>0.0</td>\n",
       "      <td>NaN</td>\n",
       "      <td>NaN</td>\n",
       "      <td>NaN</td>\n",
       "      <td>2008.0</td>\n",
       "      <td>2008.0</td>\n",
       "      <td>1.0</td>\n",
       "      <td>130000.0</td>\n",
       "      <td>...</td>\n",
       "      <td>0.0</td>\n",
       "      <td>0.0</td>\n",
       "      <td>0.0</td>\n",
       "      <td>1.0</td>\n",
       "      <td>0.0</td>\n",
       "      <td>0.0</td>\n",
       "      <td>0.0</td>\n",
       "      <td>0.0</td>\n",
       "      <td>0.0</td>\n",
       "      <td>732920.0</td>\n",
       "    </tr>\n",
       "    <tr>\n",
       "      <th>196537</th>\n",
       "      <td>operating</td>\n",
       "      <td>2011</td>\n",
       "      <td>2021.0</td>\n",
       "      <td>NaN</td>\n",
       "      <td>NaN</td>\n",
       "      <td>NaN</td>\n",
       "      <td>2011.0</td>\n",
       "      <td>2011.0</td>\n",
       "      <td>1.0</td>\n",
       "      <td>500000.0</td>\n",
       "      <td>...</td>\n",
       "      <td>0.0</td>\n",
       "      <td>0.0</td>\n",
       "      <td>0.0</td>\n",
       "      <td>0.0</td>\n",
       "      <td>0.0</td>\n",
       "      <td>0.0</td>\n",
       "      <td>0.0</td>\n",
       "      <td>0.0</td>\n",
       "      <td>1.0</td>\n",
       "      <td>3650.0</td>\n",
       "    </tr>\n",
       "    <tr>\n",
       "      <th>196540</th>\n",
       "      <td>closed</td>\n",
       "      <td>2006</td>\n",
       "      <td>0.0</td>\n",
       "      <td>NaN</td>\n",
       "      <td>NaN</td>\n",
       "      <td>NaN</td>\n",
       "      <td>2008.0</td>\n",
       "      <td>2009.0</td>\n",
       "      <td>2.0</td>\n",
       "      <td>1100000.0</td>\n",
       "      <td>...</td>\n",
       "      <td>0.0</td>\n",
       "      <td>0.0</td>\n",
       "      <td>0.0</td>\n",
       "      <td>1.0</td>\n",
       "      <td>0.0</td>\n",
       "      <td>0.0</td>\n",
       "      <td>0.0</td>\n",
       "      <td>0.0</td>\n",
       "      <td>0.0</td>\n",
       "      <td>732190.0</td>\n",
       "    </tr>\n",
       "    <tr>\n",
       "      <th>196549</th>\n",
       "      <td>operating</td>\n",
       "      <td>2007</td>\n",
       "      <td>2021.0</td>\n",
       "      <td>NaN</td>\n",
       "      <td>NaN</td>\n",
       "      <td>NaN</td>\n",
       "      <td>2008.0</td>\n",
       "      <td>2008.0</td>\n",
       "      <td>1.0</td>\n",
       "      <td>750000.0</td>\n",
       "      <td>...</td>\n",
       "      <td>0.0</td>\n",
       "      <td>0.0</td>\n",
       "      <td>0.0</td>\n",
       "      <td>1.0</td>\n",
       "      <td>0.0</td>\n",
       "      <td>0.0</td>\n",
       "      <td>0.0</td>\n",
       "      <td>0.0</td>\n",
       "      <td>1.0</td>\n",
       "      <td>5110.0</td>\n",
       "    </tr>\n",
       "    <tr>\n",
       "      <th>196552</th>\n",
       "      <td>operating</td>\n",
       "      <td>2007</td>\n",
       "      <td>2021.0</td>\n",
       "      <td>NaN</td>\n",
       "      <td>NaN</td>\n",
       "      <td>NaN</td>\n",
       "      <td>2008.0</td>\n",
       "      <td>2008.0</td>\n",
       "      <td>1.0</td>\n",
       "      <td>475000.0</td>\n",
       "      <td>...</td>\n",
       "      <td>0.0</td>\n",
       "      <td>0.0</td>\n",
       "      <td>0.0</td>\n",
       "      <td>1.0</td>\n",
       "      <td>0.0</td>\n",
       "      <td>0.0</td>\n",
       "      <td>0.0</td>\n",
       "      <td>0.0</td>\n",
       "      <td>1.0</td>\n",
       "      <td>5110.0</td>\n",
       "    </tr>\n",
       "  </tbody>\n",
       "</table>\n",
       "<p>16880 rows × 168 columns</p>\n",
       "</div>"
      ],
      "text/plain": [
       "           status  founded_at  closed_at first_investment_at  \\\n",
       "13       acquired        2007        0.0                 NaN   \n",
       "20      operating        2003     2021.0                 NaN   \n",
       "26      operating        2003     2021.0                 NaN   \n",
       "32      operating        2010     2021.0                 NaN   \n",
       "36      operating        2006     2021.0                 NaN   \n",
       "...           ...         ...        ...                 ...   \n",
       "196526     closed        2008        0.0                 NaN   \n",
       "196537  operating        2011     2021.0                 NaN   \n",
       "196540     closed        2006        0.0                 NaN   \n",
       "196549  operating        2007     2021.0                 NaN   \n",
       "196552  operating        2007     2021.0                 NaN   \n",
       "\n",
       "       last_investment_at  investment_rounds  first_funding_at  \\\n",
       "13                    NaN                NaN            2008.0   \n",
       "20                    NaN                NaN            2011.0   \n",
       "26                    NaN                NaN            2003.0   \n",
       "32                    NaN                NaN            2011.0   \n",
       "36                    NaN                NaN            2011.0   \n",
       "...                   ...                ...               ...   \n",
       "196526                NaN                NaN            2008.0   \n",
       "196537                NaN                NaN            2011.0   \n",
       "196540                NaN                NaN            2008.0   \n",
       "196549                NaN                NaN            2008.0   \n",
       "196552                NaN                NaN            2008.0   \n",
       "\n",
       "        last_funding_at  funding_rounds  funding_total_usd  ...  142  143  \\\n",
       "13               2008.0             1.0          5000000.0  ...  0.0  0.0   \n",
       "20               2012.0             3.0         10125293.0  ...  0.0  0.0   \n",
       "26               2003.0             1.0           250000.0  ...  0.0  0.0   \n",
       "32               2011.0             1.0           100000.0  ...  0.0  0.0   \n",
       "36               2012.0             2.0         11300000.0  ...  0.0  0.0   \n",
       "...                 ...             ...                ...  ...  ...  ...   \n",
       "196526           2008.0             1.0           130000.0  ...  0.0  0.0   \n",
       "196537           2011.0             1.0           500000.0  ...  0.0  0.0   \n",
       "196540           2009.0             2.0          1100000.0  ...  0.0  0.0   \n",
       "196549           2008.0             1.0           750000.0  ...  0.0  0.0   \n",
       "196552           2008.0             1.0           475000.0  ...  0.0  0.0   \n",
       "\n",
       "        144  145  146  147  148  149  isClosed  active_days  \n",
       "13      0.0  1.0  0.0  0.0  0.0  0.0       0.0     732555.0  \n",
       "20      0.0  1.0  0.0  0.0  0.0  0.0       1.0       6570.0  \n",
       "26      0.0  0.0  0.0  0.0  0.0  0.0       1.0       6570.0  \n",
       "32      0.0  1.0  0.0  0.0  0.0  0.0       1.0       4015.0  \n",
       "36      0.0  1.0  0.0  0.0  0.0  0.0       1.0       5475.0  \n",
       "...     ...  ...  ...  ...  ...  ...       ...          ...  \n",
       "196526  0.0  1.0  0.0  0.0  0.0  0.0       0.0     732920.0  \n",
       "196537  0.0  0.0  0.0  0.0  0.0  0.0       1.0       3650.0  \n",
       "196540  0.0  1.0  0.0  0.0  0.0  0.0       0.0     732190.0  \n",
       "196549  0.0  1.0  0.0  0.0  0.0  0.0       1.0       5110.0  \n",
       "196552  0.0  1.0  0.0  0.0  0.0  0.0       1.0       5110.0  \n",
       "\n",
       "[16880 rows x 168 columns]"
      ]
     },
     "execution_count": 37,
     "metadata": {},
     "output_type": "execute_result"
    }
   ],
   "source": [
    "company['active_days'] = abs((company.closed_at - company.founded_at) * 365)\n",
    "company"
   ]
  },
  {
   "cell_type": "markdown",
   "id": "f71da94f",
   "metadata": {
    "id": "f71da94f"
   },
   "source": [
    "#### 2.b.iii. Then, delete the closed_at column."
   ]
  },
  {
   "cell_type": "code",
   "execution_count": 38,
   "id": "0aef9ba3",
   "metadata": {
    "id": "0aef9ba3",
    "scrolled": true
   },
   "outputs": [],
   "source": [
    "company.drop('closed_at', axis = 1, inplace = True)"
   ]
  },
  {
   "cell_type": "markdown",
   "id": "1bfc12a2",
   "metadata": {},
   "source": [
    "### Delete the columns with Null values"
   ]
  },
  {
   "cell_type": "code",
   "execution_count": 39,
   "id": "a18a8881",
   "metadata": {},
   "outputs": [],
   "source": [
    "company.drop(['first_investment_at', 'last_investment_at', 'investment_rounds'], axis = 1, inplace = True)"
   ]
  },
  {
   "cell_type": "markdown",
   "id": "19ccb065",
   "metadata": {
    "id": "19ccb065"
   },
   "source": [
    "### Remove the null vaues with the mean value in 'Numerical Data'"
   ]
  },
  {
   "cell_type": "code",
   "execution_count": 40,
   "id": "e8fad146",
   "metadata": {
    "id": "e8fad146"
   },
   "outputs": [],
   "source": [
    "company['funding_total_usd'] = company['funding_total_usd'].fillna(company.funding_total_usd.mean())\n",
    "\n",
    "company['funding_rounds'] = company['funding_rounds'].fillna(company.funding_rounds.mean())\n",
    "\n",
    "company['milestones'] = company['milestones'].fillna(company.milestones.mean())\n",
    "\n",
    "company['relationships'] = company['relationships'].fillna(company.relationships.mean())"
   ]
  },
  {
   "cell_type": "code",
   "execution_count": 41,
   "id": "611cdf68",
   "metadata": {
    "scrolled": true
   },
   "outputs": [
    {
     "data": {
      "text/plain": [
       "14658"
      ]
     },
     "execution_count": 41,
     "metadata": {},
     "output_type": "execute_result"
    }
   ],
   "source": [
    "company.isna().sum().sum() # count of null values"
   ]
  },
  {
   "cell_type": "code",
   "execution_count": 42,
   "id": "1442ae4a",
   "metadata": {},
   "outputs": [],
   "source": [
    "company.dropna(inplace=True) # drop null values"
   ]
  },
  {
   "cell_type": "code",
   "execution_count": 43,
   "id": "914f8146",
   "metadata": {
    "id": "914f8146",
    "scrolled": true
   },
   "outputs": [
    {
     "data": {
      "text/plain": [
       "0"
      ]
     },
     "execution_count": 43,
     "metadata": {},
     "output_type": "execute_result"
    }
   ],
   "source": [
    "# First let's check how much of rows has nan values and drop them.\n",
    "company.isna().sum().sum()"
   ]
  },
  {
   "cell_type": "code",
   "execution_count": 44,
   "id": "b37ab7e6",
   "metadata": {
    "id": "b37ab7e6"
   },
   "outputs": [],
   "source": [
    "# Save cleaned Data.\n",
    "company.index = range(0,len(company))\n",
    "company.to_csv('companies_new.csv')"
   ]
  },
  {
   "cell_type": "code",
   "execution_count": 45,
   "id": "6fc81a45",
   "metadata": {},
   "outputs": [
    {
     "data": {
      "text/html": [
       "<div>\n",
       "<style scoped>\n",
       "    .dataframe tbody tr th:only-of-type {\n",
       "        vertical-align: middle;\n",
       "    }\n",
       "\n",
       "    .dataframe tbody tr th {\n",
       "        vertical-align: top;\n",
       "    }\n",
       "\n",
       "    .dataframe thead th {\n",
       "        text-align: right;\n",
       "    }\n",
       "</style>\n",
       "<table border=\"1\" class=\"dataframe\">\n",
       "  <thead>\n",
       "    <tr style=\"text-align: right;\">\n",
       "      <th></th>\n",
       "      <th>status</th>\n",
       "      <th>founded_at</th>\n",
       "      <th>first_funding_at</th>\n",
       "      <th>last_funding_at</th>\n",
       "      <th>funding_rounds</th>\n",
       "      <th>funding_total_usd</th>\n",
       "      <th>first_milestone_at</th>\n",
       "      <th>last_milestone_at</th>\n",
       "      <th>milestones</th>\n",
       "      <th>relationships</th>\n",
       "      <th>...</th>\n",
       "      <th>142</th>\n",
       "      <th>143</th>\n",
       "      <th>144</th>\n",
       "      <th>145</th>\n",
       "      <th>146</th>\n",
       "      <th>147</th>\n",
       "      <th>148</th>\n",
       "      <th>149</th>\n",
       "      <th>isClosed</th>\n",
       "      <th>active_days</th>\n",
       "    </tr>\n",
       "  </thead>\n",
       "  <tbody>\n",
       "    <tr>\n",
       "      <th>0</th>\n",
       "      <td>acquired</td>\n",
       "      <td>2007</td>\n",
       "      <td>2008.0</td>\n",
       "      <td>2008.0</td>\n",
       "      <td>1.0</td>\n",
       "      <td>5000000.0</td>\n",
       "      <td>2008.0</td>\n",
       "      <td>2012.0</td>\n",
       "      <td>3.0</td>\n",
       "      <td>14.0</td>\n",
       "      <td>...</td>\n",
       "      <td>0.0</td>\n",
       "      <td>0.0</td>\n",
       "      <td>0.0</td>\n",
       "      <td>1.0</td>\n",
       "      <td>0.0</td>\n",
       "      <td>0.0</td>\n",
       "      <td>0.0</td>\n",
       "      <td>0.0</td>\n",
       "      <td>0.0</td>\n",
       "      <td>732555.0</td>\n",
       "    </tr>\n",
       "    <tr>\n",
       "      <th>1</th>\n",
       "      <td>operating</td>\n",
       "      <td>2003</td>\n",
       "      <td>2011.0</td>\n",
       "      <td>2012.0</td>\n",
       "      <td>3.0</td>\n",
       "      <td>10125293.0</td>\n",
       "      <td>2010.0</td>\n",
       "      <td>2010.0</td>\n",
       "      <td>1.0</td>\n",
       "      <td>6.0</td>\n",
       "      <td>...</td>\n",
       "      <td>0.0</td>\n",
       "      <td>0.0</td>\n",
       "      <td>0.0</td>\n",
       "      <td>1.0</td>\n",
       "      <td>0.0</td>\n",
       "      <td>0.0</td>\n",
       "      <td>0.0</td>\n",
       "      <td>0.0</td>\n",
       "      <td>1.0</td>\n",
       "      <td>6570.0</td>\n",
       "    </tr>\n",
       "    <tr>\n",
       "      <th>2</th>\n",
       "      <td>operating</td>\n",
       "      <td>2003</td>\n",
       "      <td>2003.0</td>\n",
       "      <td>2003.0</td>\n",
       "      <td>1.0</td>\n",
       "      <td>250000.0</td>\n",
       "      <td>2007.0</td>\n",
       "      <td>2007.0</td>\n",
       "      <td>1.0</td>\n",
       "      <td>2.0</td>\n",
       "      <td>...</td>\n",
       "      <td>0.0</td>\n",
       "      <td>0.0</td>\n",
       "      <td>0.0</td>\n",
       "      <td>0.0</td>\n",
       "      <td>0.0</td>\n",
       "      <td>0.0</td>\n",
       "      <td>0.0</td>\n",
       "      <td>0.0</td>\n",
       "      <td>1.0</td>\n",
       "      <td>6570.0</td>\n",
       "    </tr>\n",
       "    <tr>\n",
       "      <th>3</th>\n",
       "      <td>operating</td>\n",
       "      <td>2004</td>\n",
       "      <td>2011.0</td>\n",
       "      <td>2011.0</td>\n",
       "      <td>1.0</td>\n",
       "      <td>1500000.0</td>\n",
       "      <td>2010.0</td>\n",
       "      <td>2010.0</td>\n",
       "      <td>1.0</td>\n",
       "      <td>8.0</td>\n",
       "      <td>...</td>\n",
       "      <td>0.0</td>\n",
       "      <td>0.0</td>\n",
       "      <td>0.0</td>\n",
       "      <td>1.0</td>\n",
       "      <td>0.0</td>\n",
       "      <td>0.0</td>\n",
       "      <td>0.0</td>\n",
       "      <td>0.0</td>\n",
       "      <td>1.0</td>\n",
       "      <td>6205.0</td>\n",
       "    </tr>\n",
       "    <tr>\n",
       "      <th>4</th>\n",
       "      <td>operating</td>\n",
       "      <td>2006</td>\n",
       "      <td>2007.0</td>\n",
       "      <td>2007.0</td>\n",
       "      <td>1.0</td>\n",
       "      <td>2500000.0</td>\n",
       "      <td>2010.0</td>\n",
       "      <td>2012.0</td>\n",
       "      <td>2.0</td>\n",
       "      <td>7.0</td>\n",
       "      <td>...</td>\n",
       "      <td>0.0</td>\n",
       "      <td>0.0</td>\n",
       "      <td>0.0</td>\n",
       "      <td>1.0</td>\n",
       "      <td>0.0</td>\n",
       "      <td>0.0</td>\n",
       "      <td>0.0</td>\n",
       "      <td>0.0</td>\n",
       "      <td>1.0</td>\n",
       "      <td>5475.0</td>\n",
       "    </tr>\n",
       "    <tr>\n",
       "      <th>...</th>\n",
       "      <td>...</td>\n",
       "      <td>...</td>\n",
       "      <td>...</td>\n",
       "      <td>...</td>\n",
       "      <td>...</td>\n",
       "      <td>...</td>\n",
       "      <td>...</td>\n",
       "      <td>...</td>\n",
       "      <td>...</td>\n",
       "      <td>...</td>\n",
       "      <td>...</td>\n",
       "      <td>...</td>\n",
       "      <td>...</td>\n",
       "      <td>...</td>\n",
       "      <td>...</td>\n",
       "      <td>...</td>\n",
       "      <td>...</td>\n",
       "      <td>...</td>\n",
       "      <td>...</td>\n",
       "      <td>...</td>\n",
       "      <td>...</td>\n",
       "    </tr>\n",
       "    <tr>\n",
       "      <th>9803</th>\n",
       "      <td>closed</td>\n",
       "      <td>2008</td>\n",
       "      <td>2008.0</td>\n",
       "      <td>2008.0</td>\n",
       "      <td>1.0</td>\n",
       "      <td>130000.0</td>\n",
       "      <td>2008.0</td>\n",
       "      <td>2009.0</td>\n",
       "      <td>2.0</td>\n",
       "      <td>3.0</td>\n",
       "      <td>...</td>\n",
       "      <td>0.0</td>\n",
       "      <td>0.0</td>\n",
       "      <td>0.0</td>\n",
       "      <td>1.0</td>\n",
       "      <td>0.0</td>\n",
       "      <td>0.0</td>\n",
       "      <td>0.0</td>\n",
       "      <td>0.0</td>\n",
       "      <td>0.0</td>\n",
       "      <td>732920.0</td>\n",
       "    </tr>\n",
       "    <tr>\n",
       "      <th>9804</th>\n",
       "      <td>operating</td>\n",
       "      <td>2011</td>\n",
       "      <td>2011.0</td>\n",
       "      <td>2011.0</td>\n",
       "      <td>1.0</td>\n",
       "      <td>500000.0</td>\n",
       "      <td>2011.0</td>\n",
       "      <td>2011.0</td>\n",
       "      <td>1.0</td>\n",
       "      <td>2.0</td>\n",
       "      <td>...</td>\n",
       "      <td>0.0</td>\n",
       "      <td>0.0</td>\n",
       "      <td>0.0</td>\n",
       "      <td>0.0</td>\n",
       "      <td>0.0</td>\n",
       "      <td>0.0</td>\n",
       "      <td>0.0</td>\n",
       "      <td>0.0</td>\n",
       "      <td>1.0</td>\n",
       "      <td>3650.0</td>\n",
       "    </tr>\n",
       "    <tr>\n",
       "      <th>9805</th>\n",
       "      <td>closed</td>\n",
       "      <td>2006</td>\n",
       "      <td>2008.0</td>\n",
       "      <td>2009.0</td>\n",
       "      <td>2.0</td>\n",
       "      <td>1100000.0</td>\n",
       "      <td>2005.0</td>\n",
       "      <td>2008.0</td>\n",
       "      <td>2.0</td>\n",
       "      <td>4.0</td>\n",
       "      <td>...</td>\n",
       "      <td>0.0</td>\n",
       "      <td>0.0</td>\n",
       "      <td>0.0</td>\n",
       "      <td>1.0</td>\n",
       "      <td>0.0</td>\n",
       "      <td>0.0</td>\n",
       "      <td>0.0</td>\n",
       "      <td>0.0</td>\n",
       "      <td>0.0</td>\n",
       "      <td>732190.0</td>\n",
       "    </tr>\n",
       "    <tr>\n",
       "      <th>9806</th>\n",
       "      <td>operating</td>\n",
       "      <td>2007</td>\n",
       "      <td>2008.0</td>\n",
       "      <td>2008.0</td>\n",
       "      <td>1.0</td>\n",
       "      <td>750000.0</td>\n",
       "      <td>2013.0</td>\n",
       "      <td>2013.0</td>\n",
       "      <td>1.0</td>\n",
       "      <td>14.0</td>\n",
       "      <td>...</td>\n",
       "      <td>0.0</td>\n",
       "      <td>0.0</td>\n",
       "      <td>0.0</td>\n",
       "      <td>1.0</td>\n",
       "      <td>0.0</td>\n",
       "      <td>0.0</td>\n",
       "      <td>0.0</td>\n",
       "      <td>0.0</td>\n",
       "      <td>1.0</td>\n",
       "      <td>5110.0</td>\n",
       "    </tr>\n",
       "    <tr>\n",
       "      <th>9807</th>\n",
       "      <td>operating</td>\n",
       "      <td>2007</td>\n",
       "      <td>2008.0</td>\n",
       "      <td>2008.0</td>\n",
       "      <td>1.0</td>\n",
       "      <td>475000.0</td>\n",
       "      <td>2006.0</td>\n",
       "      <td>2008.0</td>\n",
       "      <td>2.0</td>\n",
       "      <td>1.0</td>\n",
       "      <td>...</td>\n",
       "      <td>0.0</td>\n",
       "      <td>0.0</td>\n",
       "      <td>0.0</td>\n",
       "      <td>1.0</td>\n",
       "      <td>0.0</td>\n",
       "      <td>0.0</td>\n",
       "      <td>0.0</td>\n",
       "      <td>0.0</td>\n",
       "      <td>1.0</td>\n",
       "      <td>5110.0</td>\n",
       "    </tr>\n",
       "  </tbody>\n",
       "</table>\n",
       "<p>9808 rows × 164 columns</p>\n",
       "</div>"
      ],
      "text/plain": [
       "         status  founded_at  first_funding_at  last_funding_at  \\\n",
       "0      acquired        2007            2008.0           2008.0   \n",
       "1     operating        2003            2011.0           2012.0   \n",
       "2     operating        2003            2003.0           2003.0   \n",
       "3     operating        2004            2011.0           2011.0   \n",
       "4     operating        2006            2007.0           2007.0   \n",
       "...         ...         ...               ...              ...   \n",
       "9803     closed        2008            2008.0           2008.0   \n",
       "9804  operating        2011            2011.0           2011.0   \n",
       "9805     closed        2006            2008.0           2009.0   \n",
       "9806  operating        2007            2008.0           2008.0   \n",
       "9807  operating        2007            2008.0           2008.0   \n",
       "\n",
       "      funding_rounds  funding_total_usd  first_milestone_at  \\\n",
       "0                1.0          5000000.0              2008.0   \n",
       "1                3.0         10125293.0              2010.0   \n",
       "2                1.0           250000.0              2007.0   \n",
       "3                1.0          1500000.0              2010.0   \n",
       "4                1.0          2500000.0              2010.0   \n",
       "...              ...                ...                 ...   \n",
       "9803             1.0           130000.0              2008.0   \n",
       "9804             1.0           500000.0              2011.0   \n",
       "9805             2.0          1100000.0              2005.0   \n",
       "9806             1.0           750000.0              2013.0   \n",
       "9807             1.0           475000.0              2006.0   \n",
       "\n",
       "      last_milestone_at  milestones  relationships  ...  142  143  144  145  \\\n",
       "0                2012.0         3.0           14.0  ...  0.0  0.0  0.0  1.0   \n",
       "1                2010.0         1.0            6.0  ...  0.0  0.0  0.0  1.0   \n",
       "2                2007.0         1.0            2.0  ...  0.0  0.0  0.0  0.0   \n",
       "3                2010.0         1.0            8.0  ...  0.0  0.0  0.0  1.0   \n",
       "4                2012.0         2.0            7.0  ...  0.0  0.0  0.0  1.0   \n",
       "...                 ...         ...            ...  ...  ...  ...  ...  ...   \n",
       "9803             2009.0         2.0            3.0  ...  0.0  0.0  0.0  1.0   \n",
       "9804             2011.0         1.0            2.0  ...  0.0  0.0  0.0  0.0   \n",
       "9805             2008.0         2.0            4.0  ...  0.0  0.0  0.0  1.0   \n",
       "9806             2013.0         1.0           14.0  ...  0.0  0.0  0.0  1.0   \n",
       "9807             2008.0         2.0            1.0  ...  0.0  0.0  0.0  1.0   \n",
       "\n",
       "      146  147  148  149  isClosed  active_days  \n",
       "0     0.0  0.0  0.0  0.0       0.0     732555.0  \n",
       "1     0.0  0.0  0.0  0.0       1.0       6570.0  \n",
       "2     0.0  0.0  0.0  0.0       1.0       6570.0  \n",
       "3     0.0  0.0  0.0  0.0       1.0       6205.0  \n",
       "4     0.0  0.0  0.0  0.0       1.0       5475.0  \n",
       "...   ...  ...  ...  ...       ...          ...  \n",
       "9803  0.0  0.0  0.0  0.0       0.0     732920.0  \n",
       "9804  0.0  0.0  0.0  0.0       1.0       3650.0  \n",
       "9805  0.0  0.0  0.0  0.0       0.0     732190.0  \n",
       "9806  0.0  0.0  0.0  0.0       1.0       5110.0  \n",
       "9807  0.0  0.0  0.0  0.0       1.0       5110.0  \n",
       "\n",
       "[9808 rows x 164 columns]"
      ]
     },
     "execution_count": 45,
     "metadata": {},
     "output_type": "execute_result"
    }
   ],
   "source": [
    "company"
   ]
  },
  {
   "cell_type": "code",
   "execution_count": null,
   "id": "1694a5c0",
   "metadata": {},
   "outputs": [],
   "source": []
  }
 ],
 "metadata": {
  "colab": {
   "collapsed_sections": [],
   "name": "Step_By_Step_DataPreprocessing.ipynb",
   "provenance": []
  },
  "kernelspec": {
   "display_name": "Python 3",
   "language": "python",
   "name": "python3"
  },
  "language_info": {
   "codemirror_mode": {
    "name": "ipython",
    "version": 3
   },
   "file_extension": ".py",
   "mimetype": "text/x-python",
   "name": "python",
   "nbconvert_exporter": "python",
   "pygments_lexer": "ipython3",
   "version": "3.8.8"
  }
 },
 "nbformat": 4,
 "nbformat_minor": 5
}
