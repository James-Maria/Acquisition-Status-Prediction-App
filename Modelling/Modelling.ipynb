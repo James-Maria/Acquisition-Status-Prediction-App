{
 "cells": [
  {
   "cell_type": "code",
   "execution_count": 1,
   "id": "12182e53",
   "metadata": {},
   "outputs": [],
   "source": [
    "import pandas as pd\n",
    "import numpy as np\n",
    "\n",
    "# For model building\n",
    "from sklearn.discriminant_analysis import QuadraticDiscriminantAnalysis \n",
    "from sklearn.ensemble import RandomForestRegressor\n",
    "\n",
    "from sklearn.model_selection import train_test_split\n",
    "\n",
    "# for model validation\n",
    "from sklearn.metrics import mean_absolute_error\n",
    "from sklearn.metrics import confusion_matrix\n",
    "from sklearn.metrics import classification_report, accuracy_score\n",
    "from sklearn.model_selection import cross_val_score\n",
    "\n",
    "import matplotlib.pyplot as plt\n",
    "import seaborn as sns\n",
    "sns.set()\n",
    "\n",
    "import warnings\n",
    "warnings.filterwarnings('ignore')"
   ]
  },
  {
   "cell_type": "code",
   "execution_count": 2,
   "id": "776577b9",
   "metadata": {},
   "outputs": [],
   "source": [
    "df = pd.read_csv('new_companies.csv')"
   ]
  },
  {
   "cell_type": "code",
   "execution_count": 3,
   "id": "575551d0",
   "metadata": {},
   "outputs": [],
   "source": [
    "df.drop(['Unnamed: 0'], axis = 1, inplace=True)"
   ]
  },
  {
   "cell_type": "code",
   "execution_count": 4,
   "id": "c1373985",
   "metadata": {},
   "outputs": [
    {
     "data": {
      "text/html": [
       "<div>\n",
       "<style scoped>\n",
       "    .dataframe tbody tr th:only-of-type {\n",
       "        vertical-align: middle;\n",
       "    }\n",
       "\n",
       "    .dataframe tbody tr th {\n",
       "        vertical-align: top;\n",
       "    }\n",
       "\n",
       "    .dataframe thead th {\n",
       "        text-align: right;\n",
       "    }\n",
       "</style>\n",
       "<table border=\"1\" class=\"dataframe\">\n",
       "  <thead>\n",
       "    <tr style=\"text-align: right;\">\n",
       "      <th></th>\n",
       "      <th>founded_at</th>\n",
       "      <th>first_funding_at</th>\n",
       "      <th>last_funding_at</th>\n",
       "      <th>funding_rounds</th>\n",
       "      <th>funding_total_usd</th>\n",
       "      <th>first_milestone_at</th>\n",
       "      <th>last_milestone_at</th>\n",
       "      <th>milestones</th>\n",
       "      <th>status</th>\n",
       "      <th>isClosed</th>\n",
       "    </tr>\n",
       "  </thead>\n",
       "  <tbody>\n",
       "    <tr>\n",
       "      <th>0</th>\n",
       "      <td>-0.113605</td>\n",
       "      <td>-0.879874</td>\n",
       "      <td>-1.306764</td>\n",
       "      <td>-0.791392</td>\n",
       "      <td>0.001246</td>\n",
       "      <td>-0.753281</td>\n",
       "      <td>0.361501</td>\n",
       "      <td>1.733481</td>\n",
       "      <td>0</td>\n",
       "      <td>0</td>\n",
       "    </tr>\n",
       "    <tr>\n",
       "      <th>1</th>\n",
       "      <td>-0.799293</td>\n",
       "      <td>0.310334</td>\n",
       "      <td>0.454866</td>\n",
       "      <td>1.970875</td>\n",
       "      <td>0.773914</td>\n",
       "      <td>-0.084546</td>\n",
       "      <td>-0.357688</td>\n",
       "      <td>-0.735943</td>\n",
       "      <td>1</td>\n",
       "      <td>1</td>\n",
       "    </tr>\n",
       "    <tr>\n",
       "      <th>2</th>\n",
       "      <td>-0.799293</td>\n",
       "      <td>-2.863553</td>\n",
       "      <td>-3.508802</td>\n",
       "      <td>-0.791392</td>\n",
       "      <td>-0.714844</td>\n",
       "      <td>-1.087648</td>\n",
       "      <td>-1.436472</td>\n",
       "      <td>-0.735943</td>\n",
       "      <td>1</td>\n",
       "      <td>1</td>\n",
       "    </tr>\n",
       "    <tr>\n",
       "      <th>3</th>\n",
       "      <td>-0.627871</td>\n",
       "      <td>0.310334</td>\n",
       "      <td>0.014459</td>\n",
       "      <td>-0.791392</td>\n",
       "      <td>-0.526399</td>\n",
       "      <td>-0.084546</td>\n",
       "      <td>-0.357688</td>\n",
       "      <td>-0.735943</td>\n",
       "      <td>1</td>\n",
       "      <td>1</td>\n",
       "    </tr>\n",
       "    <tr>\n",
       "      <th>4</th>\n",
       "      <td>-0.285027</td>\n",
       "      <td>-1.276609</td>\n",
       "      <td>-1.747172</td>\n",
       "      <td>-0.791392</td>\n",
       "      <td>-0.375644</td>\n",
       "      <td>-0.084546</td>\n",
       "      <td>0.361501</td>\n",
       "      <td>0.498769</td>\n",
       "      <td>1</td>\n",
       "      <td>1</td>\n",
       "    </tr>\n",
       "  </tbody>\n",
       "</table>\n",
       "</div>"
      ],
      "text/plain": [
       "   founded_at  first_funding_at  last_funding_at  funding_rounds  \\\n",
       "0   -0.113605         -0.879874        -1.306764       -0.791392   \n",
       "1   -0.799293          0.310334         0.454866        1.970875   \n",
       "2   -0.799293         -2.863553        -3.508802       -0.791392   \n",
       "3   -0.627871          0.310334         0.014459       -0.791392   \n",
       "4   -0.285027         -1.276609        -1.747172       -0.791392   \n",
       "\n",
       "   funding_total_usd  first_milestone_at  last_milestone_at  milestones  \\\n",
       "0           0.001246           -0.753281           0.361501    1.733481   \n",
       "1           0.773914           -0.084546          -0.357688   -0.735943   \n",
       "2          -0.714844           -1.087648          -1.436472   -0.735943   \n",
       "3          -0.526399           -0.084546          -0.357688   -0.735943   \n",
       "4          -0.375644           -0.084546           0.361501    0.498769   \n",
       "\n",
       "   status  isClosed  \n",
       "0       0         0  \n",
       "1       1         1  \n",
       "2       1         1  \n",
       "3       1         1  \n",
       "4       1         1  "
      ]
     },
     "execution_count": 4,
     "metadata": {},
     "output_type": "execute_result"
    }
   ],
   "source": [
    "df.head()"
   ]
  },
  {
   "cell_type": "code",
   "execution_count": 5,
   "id": "def22d6c",
   "metadata": {},
   "outputs": [
    {
     "data": {
      "text/plain": [
       "Index(['founded_at', 'first_funding_at', 'last_funding_at', 'funding_rounds',\n",
       "       'funding_total_usd', 'first_milestone_at', 'last_milestone_at',\n",
       "       'milestones', 'status', 'isClosed'],\n",
       "      dtype='object')"
      ]
     },
     "execution_count": 5,
     "metadata": {},
     "output_type": "execute_result"
    }
   ],
   "source": [
    "df.columns"
   ]
  },
  {
   "cell_type": "markdown",
   "id": "285caed6",
   "metadata": {},
   "source": [
    "#### Status Column\n",
    "\n",
    "0 - Acquired\n",
    "\n",
    "1 - Operating\n",
    "\n",
    "2 - Closed\n",
    "\n",
    "3 - IPO"
   ]
  },
  {
   "cell_type": "code",
   "execution_count": 6,
   "id": "f866dc94",
   "metadata": {},
   "outputs": [
    {
     "name": "stdout",
     "output_type": "stream",
     "text": [
      "<class 'pandas.core.frame.DataFrame'>\n",
      "RangeIndex: 9808 entries, 0 to 9807\n",
      "Data columns (total 10 columns):\n",
      " #   Column              Non-Null Count  Dtype  \n",
      "---  ------              --------------  -----  \n",
      " 0   founded_at          9808 non-null   float64\n",
      " 1   first_funding_at    9808 non-null   float64\n",
      " 2   last_funding_at     9808 non-null   float64\n",
      " 3   funding_rounds      9808 non-null   float64\n",
      " 4   funding_total_usd   9808 non-null   float64\n",
      " 5   first_milestone_at  9808 non-null   float64\n",
      " 6   last_milestone_at   9808 non-null   float64\n",
      " 7   milestones          9808 non-null   float64\n",
      " 8   status              9808 non-null   int64  \n",
      " 9   isClosed            9808 non-null   int64  \n",
      "dtypes: float64(8), int64(2)\n",
      "memory usage: 766.4 KB\n"
     ]
    }
   ],
   "source": [
    "df.info()"
   ]
  },
  {
   "cell_type": "markdown",
   "id": "29400f2c",
   "metadata": {},
   "source": [
    "## 1. QDA"
   ]
  },
  {
   "cell_type": "markdown",
   "id": "fc9a73ef",
   "metadata": {},
   "source": [
    "- Method designed to separate two or more classes based on a combination of features in a normal ditribution, where it assumes each feature has its own covariance matrix.\n",
    "\n",
    "- QDA is more flexible with high variance data.\n",
    "\n",
    "- QDA uses a classifier with a quadratic decision boundary, where each class is fitted with a Gaussian density.\n",
    "\n",
    "- This classifier was mainly used to classify between 2 classes only, Operating and Not Operating."
   ]
  },
  {
   "cell_type": "code",
   "execution_count": 7,
   "id": "f9e5b3dd",
   "metadata": {},
   "outputs": [],
   "source": [
    "# define predictor and response variables\n",
    "X = df.drop(['status','isClosed'], axis = 1)\n",
    "y = df['isClosed']"
   ]
  },
  {
   "cell_type": "code",
   "execution_count": 8,
   "id": "cd5c1c43",
   "metadata": {},
   "outputs": [],
   "source": [
    "# splitting the data into train and test\n",
    "X_train, X_test, y_train, y_test = train_test_split(X, y, random_state=1)"
   ]
  },
  {
   "cell_type": "code",
   "execution_count": 9,
   "id": "28c43e62",
   "metadata": {},
   "outputs": [
    {
     "data": {
      "text/html": [
       "<style>#sk-container-id-1 {color: black;background-color: white;}#sk-container-id-1 pre{padding: 0;}#sk-container-id-1 div.sk-toggleable {background-color: white;}#sk-container-id-1 label.sk-toggleable__label {cursor: pointer;display: block;width: 100%;margin-bottom: 0;padding: 0.3em;box-sizing: border-box;text-align: center;}#sk-container-id-1 label.sk-toggleable__label-arrow:before {content: \"▸\";float: left;margin-right: 0.25em;color: #696969;}#sk-container-id-1 label.sk-toggleable__label-arrow:hover:before {color: black;}#sk-container-id-1 div.sk-estimator:hover label.sk-toggleable__label-arrow:before {color: black;}#sk-container-id-1 div.sk-toggleable__content {max-height: 0;max-width: 0;overflow: hidden;text-align: left;background-color: #f0f8ff;}#sk-container-id-1 div.sk-toggleable__content pre {margin: 0.2em;color: black;border-radius: 0.25em;background-color: #f0f8ff;}#sk-container-id-1 input.sk-toggleable__control:checked~div.sk-toggleable__content {max-height: 200px;max-width: 100%;overflow: auto;}#sk-container-id-1 input.sk-toggleable__control:checked~label.sk-toggleable__label-arrow:before {content: \"▾\";}#sk-container-id-1 div.sk-estimator input.sk-toggleable__control:checked~label.sk-toggleable__label {background-color: #d4ebff;}#sk-container-id-1 div.sk-label input.sk-toggleable__control:checked~label.sk-toggleable__label {background-color: #d4ebff;}#sk-container-id-1 input.sk-hidden--visually {border: 0;clip: rect(1px 1px 1px 1px);clip: rect(1px, 1px, 1px, 1px);height: 1px;margin: -1px;overflow: hidden;padding: 0;position: absolute;width: 1px;}#sk-container-id-1 div.sk-estimator {font-family: monospace;background-color: #f0f8ff;border: 1px dotted black;border-radius: 0.25em;box-sizing: border-box;margin-bottom: 0.5em;}#sk-container-id-1 div.sk-estimator:hover {background-color: #d4ebff;}#sk-container-id-1 div.sk-parallel-item::after {content: \"\";width: 100%;border-bottom: 1px solid gray;flex-grow: 1;}#sk-container-id-1 div.sk-label:hover label.sk-toggleable__label {background-color: #d4ebff;}#sk-container-id-1 div.sk-serial::before {content: \"\";position: absolute;border-left: 1px solid gray;box-sizing: border-box;top: 0;bottom: 0;left: 50%;z-index: 0;}#sk-container-id-1 div.sk-serial {display: flex;flex-direction: column;align-items: center;background-color: white;padding-right: 0.2em;padding-left: 0.2em;position: relative;}#sk-container-id-1 div.sk-item {position: relative;z-index: 1;}#sk-container-id-1 div.sk-parallel {display: flex;align-items: stretch;justify-content: center;background-color: white;position: relative;}#sk-container-id-1 div.sk-item::before, #sk-container-id-1 div.sk-parallel-item::before {content: \"\";position: absolute;border-left: 1px solid gray;box-sizing: border-box;top: 0;bottom: 0;left: 50%;z-index: -1;}#sk-container-id-1 div.sk-parallel-item {display: flex;flex-direction: column;z-index: 1;position: relative;background-color: white;}#sk-container-id-1 div.sk-parallel-item:first-child::after {align-self: flex-end;width: 50%;}#sk-container-id-1 div.sk-parallel-item:last-child::after {align-self: flex-start;width: 50%;}#sk-container-id-1 div.sk-parallel-item:only-child::after {width: 0;}#sk-container-id-1 div.sk-dashed-wrapped {border: 1px dashed gray;margin: 0 0.4em 0.5em 0.4em;box-sizing: border-box;padding-bottom: 0.4em;background-color: white;}#sk-container-id-1 div.sk-label label {font-family: monospace;font-weight: bold;display: inline-block;line-height: 1.2em;}#sk-container-id-1 div.sk-label-container {text-align: center;}#sk-container-id-1 div.sk-container {/* jupyter's `normalize.less` sets `[hidden] { display: none; }` but bootstrap.min.css set `[hidden] { display: none !important; }` so we also need the `!important` here to be able to override the default hidden behavior on the sphinx rendered scikit-learn.org. See: https://github.com/scikit-learn/scikit-learn/issues/21755 */display: inline-block !important;position: relative;}#sk-container-id-1 div.sk-text-repr-fallback {display: none;}</style><div id=\"sk-container-id-1\" class=\"sk-top-container\"><div class=\"sk-text-repr-fallback\"><pre>QuadraticDiscriminantAnalysis()</pre><b>In a Jupyter environment, please rerun this cell to show the HTML representation or trust the notebook. <br />On GitHub, the HTML representation is unable to render, please try loading this page with nbviewer.org.</b></div><div class=\"sk-container\" hidden><div class=\"sk-item\"><div class=\"sk-estimator sk-toggleable\"><input class=\"sk-toggleable__control sk-hidden--visually\" id=\"sk-estimator-id-1\" type=\"checkbox\" checked><label for=\"sk-estimator-id-1\" class=\"sk-toggleable__label sk-toggleable__label-arrow\">QuadraticDiscriminantAnalysis</label><div class=\"sk-toggleable__content\"><pre>QuadraticDiscriminantAnalysis()</pre></div></div></div></div></div>"
      ],
      "text/plain": [
       "QuadraticDiscriminantAnalysis()"
      ]
     },
     "execution_count": 9,
     "metadata": {},
     "output_type": "execute_result"
    }
   ],
   "source": [
    "# Fit the QDA model\n",
    "qda_model = QuadraticDiscriminantAnalysis()\n",
    "qda_model.fit(X_train, y_train)"
   ]
  },
  {
   "cell_type": "code",
   "execution_count": 10,
   "id": "7603003b",
   "metadata": {},
   "outputs": [],
   "source": [
    "preds = qda_model.predict(X_test)"
   ]
  },
  {
   "cell_type": "code",
   "execution_count": 11,
   "id": "e6335220",
   "metadata": {},
   "outputs": [
    {
     "data": {
      "text/html": [
       "<div>\n",
       "<style scoped>\n",
       "    .dataframe tbody tr th:only-of-type {\n",
       "        vertical-align: middle;\n",
       "    }\n",
       "\n",
       "    .dataframe tbody tr th {\n",
       "        vertical-align: top;\n",
       "    }\n",
       "\n",
       "    .dataframe thead th {\n",
       "        text-align: right;\n",
       "    }\n",
       "</style>\n",
       "<table border=\"1\" class=\"dataframe\">\n",
       "  <thead>\n",
       "    <tr style=\"text-align: right;\">\n",
       "      <th></th>\n",
       "      <th>Original</th>\n",
       "      <th>Prediction</th>\n",
       "      <th>Error</th>\n",
       "    </tr>\n",
       "  </thead>\n",
       "  <tbody>\n",
       "    <tr>\n",
       "      <th>9248</th>\n",
       "      <td>1</td>\n",
       "      <td>1</td>\n",
       "      <td>0</td>\n",
       "    </tr>\n",
       "    <tr>\n",
       "      <th>1463</th>\n",
       "      <td>1</td>\n",
       "      <td>0</td>\n",
       "      <td>1</td>\n",
       "    </tr>\n",
       "    <tr>\n",
       "      <th>4928</th>\n",
       "      <td>1</td>\n",
       "      <td>1</td>\n",
       "      <td>0</td>\n",
       "    </tr>\n",
       "    <tr>\n",
       "      <th>3057</th>\n",
       "      <td>1</td>\n",
       "      <td>1</td>\n",
       "      <td>0</td>\n",
       "    </tr>\n",
       "    <tr>\n",
       "      <th>2450</th>\n",
       "      <td>1</td>\n",
       "      <td>1</td>\n",
       "      <td>0</td>\n",
       "    </tr>\n",
       "    <tr>\n",
       "      <th>...</th>\n",
       "      <td>...</td>\n",
       "      <td>...</td>\n",
       "      <td>...</td>\n",
       "    </tr>\n",
       "    <tr>\n",
       "      <th>6967</th>\n",
       "      <td>1</td>\n",
       "      <td>1</td>\n",
       "      <td>0</td>\n",
       "    </tr>\n",
       "    <tr>\n",
       "      <th>1916</th>\n",
       "      <td>1</td>\n",
       "      <td>1</td>\n",
       "      <td>0</td>\n",
       "    </tr>\n",
       "    <tr>\n",
       "      <th>3079</th>\n",
       "      <td>1</td>\n",
       "      <td>1</td>\n",
       "      <td>0</td>\n",
       "    </tr>\n",
       "    <tr>\n",
       "      <th>5512</th>\n",
       "      <td>0</td>\n",
       "      <td>1</td>\n",
       "      <td>-1</td>\n",
       "    </tr>\n",
       "    <tr>\n",
       "      <th>5197</th>\n",
       "      <td>1</td>\n",
       "      <td>1</td>\n",
       "      <td>0</td>\n",
       "    </tr>\n",
       "  </tbody>\n",
       "</table>\n",
       "<p>2452 rows × 3 columns</p>\n",
       "</div>"
      ],
      "text/plain": [
       "      Original  Prediction  Error\n",
       "9248         1           1      0\n",
       "1463         1           0      1\n",
       "4928         1           1      0\n",
       "3057         1           1      0\n",
       "2450         1           1      0\n",
       "...        ...         ...    ...\n",
       "6967         1           1      0\n",
       "1916         1           1      0\n",
       "3079         1           1      0\n",
       "5512         0           1     -1\n",
       "5197         1           1      0\n",
       "\n",
       "[2452 rows x 3 columns]"
      ]
     },
     "execution_count": 11,
     "metadata": {},
     "output_type": "execute_result"
    }
   ],
   "source": [
    "pred_df = pd.DataFrame({'Original' : y_test, 'Prediction' : preds, 'Error' : y_test - preds})\n",
    "pred_df "
   ]
  },
  {
   "cell_type": "markdown",
   "id": "22ab7bc2",
   "metadata": {},
   "source": [
    "### Model Validation"
   ]
  },
  {
   "cell_type": "code",
   "execution_count": 12,
   "id": "1d7a79c9",
   "metadata": {},
   "outputs": [
    {
     "data": {
      "text/plain": [
       "0.16476345840130505"
      ]
     },
     "execution_count": 12,
     "metadata": {},
     "output_type": "execute_result"
    }
   ],
   "source": [
    "# Mean Absolute Error\n",
    "mean_absolute_error(y_test, preds) "
   ]
  },
  {
   "cell_type": "code",
   "execution_count": 13,
   "id": "9b4bf162",
   "metadata": {},
   "outputs": [
    {
     "data": {
      "text/plain": [
       "array([0.82608696, 0.82121006, 0.84296397, 0.82596873, 0.82256968])"
      ]
     },
     "execution_count": 13,
     "metadata": {},
     "output_type": "execute_result"
    }
   ],
   "source": [
    "# Cross Validation\n",
    "accuracies = cross_val_score(qda_model, X_train, y_train, cv=5)\n",
    "accuracies"
   ]
  },
  {
   "cell_type": "code",
   "execution_count": 14,
   "id": "ef1cf65c",
   "metadata": {},
   "outputs": [
    {
     "name": "stdout",
     "output_type": "stream",
     "text": [
      "Confusion Metrix for Prediction Data :\n",
      "\n",
      " [[ 119  261]\n",
      " [ 143 1929]]\n"
     ]
    }
   ],
   "source": [
    "# Confusion Metrix\n",
    "cm_pred = confusion_matrix(y_test, preds)\n",
    "print('Confusion Metrix for Prediction Data :\\n\\n',cm_pred)"
   ]
  },
  {
   "cell_type": "code",
   "execution_count": 15,
   "id": "a9826d59",
   "metadata": {},
   "outputs": [
    {
     "name": "stdout",
     "output_type": "stream",
     "text": [
      "Classification Report for Prediction Data :\n",
      "\n",
      "               precision    recall  f1-score   support\n",
      "\n",
      "           0       0.45      0.31      0.37       380\n",
      "           1       0.88      0.93      0.91      2072\n",
      "\n",
      "    accuracy                           0.84      2452\n",
      "   macro avg       0.67      0.62      0.64      2452\n",
      "weighted avg       0.81      0.84      0.82      2452\n",
      "\n"
     ]
    }
   ],
   "source": [
    "# classification Report\n",
    "print('Classification Report for Prediction Data :\\n\\n',classification_report(y_test, preds))"
   ]
  },
  {
   "cell_type": "code",
   "execution_count": 16,
   "id": "afc0f2eb",
   "metadata": {},
   "outputs": [
    {
     "name": "stdout",
     "output_type": "stream",
     "text": [
      "Accuracy Score for Prediction Data : 0.835236541598695\n"
     ]
    }
   ],
   "source": [
    "# Accuracy Score\n",
    "print('Accuracy Score for Prediction Data :',accuracy_score(y_test, preds))"
   ]
  },
  {
   "cell_type": "markdown",
   "id": "a0ea4abf",
   "metadata": {},
   "source": [
    "## 2. Random Forest Classifier"
   ]
  },
  {
   "cell_type": "markdown",
   "id": "2b74bac1",
   "metadata": {},
   "source": [
    "- Classification algorithm consisting of a large number of individual decision trees that operate as an ensemble.\n",
    "\n",
    "- Each tree predicts a decision/class, and the decision with the most votes becomes the final prediction.\n",
    "\n",
    "- Low correlation between data features helps this ensemble reach better scores.\n",
    "\n",
    "- This classifier was used to classify between all 4 classes, Operating, IPO, Acquired, and Closed."
   ]
  },
  {
   "cell_type": "code",
   "execution_count": 17,
   "id": "3929402f",
   "metadata": {},
   "outputs": [],
   "source": [
    "X = df.drop(['status', 'isClosed'], axis = 1)\n",
    "y = df['status']"
   ]
  },
  {
   "cell_type": "code",
   "execution_count": 18,
   "id": "0a38cdb1",
   "metadata": {},
   "outputs": [],
   "source": [
    "rf_model = RandomForestRegressor(random_state=1)"
   ]
  },
  {
   "cell_type": "code",
   "execution_count": 19,
   "id": "c03f5936",
   "metadata": {},
   "outputs": [],
   "source": [
    "# splitting the data into train and test\n",
    "X_train, X_test, y_train, y_test = train_test_split(X, y, random_state=1)"
   ]
  },
  {
   "cell_type": "code",
   "execution_count": 20,
   "id": "4327d152",
   "metadata": {},
   "outputs": [
    {
     "data": {
      "text/html": [
       "<style>#sk-container-id-2 {color: black;background-color: white;}#sk-container-id-2 pre{padding: 0;}#sk-container-id-2 div.sk-toggleable {background-color: white;}#sk-container-id-2 label.sk-toggleable__label {cursor: pointer;display: block;width: 100%;margin-bottom: 0;padding: 0.3em;box-sizing: border-box;text-align: center;}#sk-container-id-2 label.sk-toggleable__label-arrow:before {content: \"▸\";float: left;margin-right: 0.25em;color: #696969;}#sk-container-id-2 label.sk-toggleable__label-arrow:hover:before {color: black;}#sk-container-id-2 div.sk-estimator:hover label.sk-toggleable__label-arrow:before {color: black;}#sk-container-id-2 div.sk-toggleable__content {max-height: 0;max-width: 0;overflow: hidden;text-align: left;background-color: #f0f8ff;}#sk-container-id-2 div.sk-toggleable__content pre {margin: 0.2em;color: black;border-radius: 0.25em;background-color: #f0f8ff;}#sk-container-id-2 input.sk-toggleable__control:checked~div.sk-toggleable__content {max-height: 200px;max-width: 100%;overflow: auto;}#sk-container-id-2 input.sk-toggleable__control:checked~label.sk-toggleable__label-arrow:before {content: \"▾\";}#sk-container-id-2 div.sk-estimator input.sk-toggleable__control:checked~label.sk-toggleable__label {background-color: #d4ebff;}#sk-container-id-2 div.sk-label input.sk-toggleable__control:checked~label.sk-toggleable__label {background-color: #d4ebff;}#sk-container-id-2 input.sk-hidden--visually {border: 0;clip: rect(1px 1px 1px 1px);clip: rect(1px, 1px, 1px, 1px);height: 1px;margin: -1px;overflow: hidden;padding: 0;position: absolute;width: 1px;}#sk-container-id-2 div.sk-estimator {font-family: monospace;background-color: #f0f8ff;border: 1px dotted black;border-radius: 0.25em;box-sizing: border-box;margin-bottom: 0.5em;}#sk-container-id-2 div.sk-estimator:hover {background-color: #d4ebff;}#sk-container-id-2 div.sk-parallel-item::after {content: \"\";width: 100%;border-bottom: 1px solid gray;flex-grow: 1;}#sk-container-id-2 div.sk-label:hover label.sk-toggleable__label {background-color: #d4ebff;}#sk-container-id-2 div.sk-serial::before {content: \"\";position: absolute;border-left: 1px solid gray;box-sizing: border-box;top: 0;bottom: 0;left: 50%;z-index: 0;}#sk-container-id-2 div.sk-serial {display: flex;flex-direction: column;align-items: center;background-color: white;padding-right: 0.2em;padding-left: 0.2em;position: relative;}#sk-container-id-2 div.sk-item {position: relative;z-index: 1;}#sk-container-id-2 div.sk-parallel {display: flex;align-items: stretch;justify-content: center;background-color: white;position: relative;}#sk-container-id-2 div.sk-item::before, #sk-container-id-2 div.sk-parallel-item::before {content: \"\";position: absolute;border-left: 1px solid gray;box-sizing: border-box;top: 0;bottom: 0;left: 50%;z-index: -1;}#sk-container-id-2 div.sk-parallel-item {display: flex;flex-direction: column;z-index: 1;position: relative;background-color: white;}#sk-container-id-2 div.sk-parallel-item:first-child::after {align-self: flex-end;width: 50%;}#sk-container-id-2 div.sk-parallel-item:last-child::after {align-self: flex-start;width: 50%;}#sk-container-id-2 div.sk-parallel-item:only-child::after {width: 0;}#sk-container-id-2 div.sk-dashed-wrapped {border: 1px dashed gray;margin: 0 0.4em 0.5em 0.4em;box-sizing: border-box;padding-bottom: 0.4em;background-color: white;}#sk-container-id-2 div.sk-label label {font-family: monospace;font-weight: bold;display: inline-block;line-height: 1.2em;}#sk-container-id-2 div.sk-label-container {text-align: center;}#sk-container-id-2 div.sk-container {/* jupyter's `normalize.less` sets `[hidden] { display: none; }` but bootstrap.min.css set `[hidden] { display: none !important; }` so we also need the `!important` here to be able to override the default hidden behavior on the sphinx rendered scikit-learn.org. See: https://github.com/scikit-learn/scikit-learn/issues/21755 */display: inline-block !important;position: relative;}#sk-container-id-2 div.sk-text-repr-fallback {display: none;}</style><div id=\"sk-container-id-2\" class=\"sk-top-container\"><div class=\"sk-text-repr-fallback\"><pre>RandomForestRegressor(random_state=1)</pre><b>In a Jupyter environment, please rerun this cell to show the HTML representation or trust the notebook. <br />On GitHub, the HTML representation is unable to render, please try loading this page with nbviewer.org.</b></div><div class=\"sk-container\" hidden><div class=\"sk-item\"><div class=\"sk-estimator sk-toggleable\"><input class=\"sk-toggleable__control sk-hidden--visually\" id=\"sk-estimator-id-2\" type=\"checkbox\" checked><label for=\"sk-estimator-id-2\" class=\"sk-toggleable__label sk-toggleable__label-arrow\">RandomForestRegressor</label><div class=\"sk-toggleable__content\"><pre>RandomForestRegressor(random_state=1)</pre></div></div></div></div></div>"
      ],
      "text/plain": [
       "RandomForestRegressor(random_state=1)"
      ]
     },
     "execution_count": 20,
     "metadata": {},
     "output_type": "execute_result"
    }
   ],
   "source": [
    "rf_model.fit(X_train, y_train)"
   ]
  },
  {
   "cell_type": "code",
   "execution_count": 21,
   "id": "b3fd46d2",
   "metadata": {},
   "outputs": [],
   "source": [
    "preds = rf_model.predict(X_test)\n",
    "\n",
    "pred_list = []\n",
    "for i in preds:\n",
    "    pred_list.append(round(i))\n"
   ]
  },
  {
   "cell_type": "code",
   "execution_count": 22,
   "id": "a7e6f480",
   "metadata": {},
   "outputs": [
    {
     "data": {
      "text/html": [
       "<div>\n",
       "<style scoped>\n",
       "    .dataframe tbody tr th:only-of-type {\n",
       "        vertical-align: middle;\n",
       "    }\n",
       "\n",
       "    .dataframe tbody tr th {\n",
       "        vertical-align: top;\n",
       "    }\n",
       "\n",
       "    .dataframe thead th {\n",
       "        text-align: right;\n",
       "    }\n",
       "</style>\n",
       "<table border=\"1\" class=\"dataframe\">\n",
       "  <thead>\n",
       "    <tr style=\"text-align: right;\">\n",
       "      <th></th>\n",
       "      <th>Original</th>\n",
       "      <th>Prediction</th>\n",
       "      <th>Error</th>\n",
       "    </tr>\n",
       "  </thead>\n",
       "  <tbody>\n",
       "    <tr>\n",
       "      <th>9248</th>\n",
       "      <td>1</td>\n",
       "      <td>1</td>\n",
       "      <td>0</td>\n",
       "    </tr>\n",
       "    <tr>\n",
       "      <th>1463</th>\n",
       "      <td>1</td>\n",
       "      <td>1</td>\n",
       "      <td>0</td>\n",
       "    </tr>\n",
       "    <tr>\n",
       "      <th>4928</th>\n",
       "      <td>1</td>\n",
       "      <td>1</td>\n",
       "      <td>0</td>\n",
       "    </tr>\n",
       "    <tr>\n",
       "      <th>3057</th>\n",
       "      <td>1</td>\n",
       "      <td>1</td>\n",
       "      <td>0</td>\n",
       "    </tr>\n",
       "    <tr>\n",
       "      <th>2450</th>\n",
       "      <td>1</td>\n",
       "      <td>1</td>\n",
       "      <td>0</td>\n",
       "    </tr>\n",
       "    <tr>\n",
       "      <th>...</th>\n",
       "      <td>...</td>\n",
       "      <td>...</td>\n",
       "      <td>...</td>\n",
       "    </tr>\n",
       "    <tr>\n",
       "      <th>6967</th>\n",
       "      <td>1</td>\n",
       "      <td>1</td>\n",
       "      <td>0</td>\n",
       "    </tr>\n",
       "    <tr>\n",
       "      <th>1916</th>\n",
       "      <td>1</td>\n",
       "      <td>1</td>\n",
       "      <td>0</td>\n",
       "    </tr>\n",
       "    <tr>\n",
       "      <th>3079</th>\n",
       "      <td>1</td>\n",
       "      <td>1</td>\n",
       "      <td>0</td>\n",
       "    </tr>\n",
       "    <tr>\n",
       "      <th>5512</th>\n",
       "      <td>2</td>\n",
       "      <td>2</td>\n",
       "      <td>0</td>\n",
       "    </tr>\n",
       "    <tr>\n",
       "      <th>5197</th>\n",
       "      <td>1</td>\n",
       "      <td>1</td>\n",
       "      <td>0</td>\n",
       "    </tr>\n",
       "  </tbody>\n",
       "</table>\n",
       "<p>2452 rows × 3 columns</p>\n",
       "</div>"
      ],
      "text/plain": [
       "      Original  Prediction  Error\n",
       "9248         1           1      0\n",
       "1463         1           1      0\n",
       "4928         1           1      0\n",
       "3057         1           1      0\n",
       "2450         1           1      0\n",
       "...        ...         ...    ...\n",
       "6967         1           1      0\n",
       "1916         1           1      0\n",
       "3079         1           1      0\n",
       "5512         2           2      0\n",
       "5197         1           1      0\n",
       "\n",
       "[2452 rows x 3 columns]"
      ]
     },
     "execution_count": 22,
     "metadata": {},
     "output_type": "execute_result"
    }
   ],
   "source": [
    "pred_df = pd.DataFrame({'Original' : y_test, 'Prediction' : pred_list, 'Error' : y_test - pred_list})\n",
    "pred_df "
   ]
  },
  {
   "cell_type": "code",
   "execution_count": 23,
   "id": "56563237",
   "metadata": {},
   "outputs": [
    {
     "data": {
      "text/plain": [
       "1    2296\n",
       "0      89\n",
       "2      66\n",
       "3       1\n",
       "Name: Prediction, dtype: int64"
      ]
     },
     "execution_count": 23,
     "metadata": {},
     "output_type": "execute_result"
    }
   ],
   "source": [
    "pred_df.Prediction.value_counts()"
   ]
  },
  {
   "cell_type": "markdown",
   "id": "7adc7ed1",
   "metadata": {},
   "source": [
    "### Model Valuation"
   ]
  },
  {
   "cell_type": "code",
   "execution_count": 24,
   "id": "7a3da874",
   "metadata": {},
   "outputs": [
    {
     "data": {
      "text/plain": [
       "0.20187601957585644"
      ]
     },
     "execution_count": 24,
     "metadata": {},
     "output_type": "execute_result"
    }
   ],
   "source": [
    "#1 Mean Absolute Error\n",
    "mean_absolute_error(y_test, pred_list)"
   ]
  },
  {
   "cell_type": "code",
   "execution_count": 25,
   "id": "a0a542b6",
   "metadata": {},
   "outputs": [
    {
     "name": "stdout",
     "output_type": "stream",
     "text": [
      "Confusion Metrix for Prediction Data :\n",
      "\n",
      " [[  29  199    5    0]\n",
      " [  53 1949   42    1]\n",
      " [   7  128   12    0]\n",
      " [   0   20    7    0]]\n"
     ]
    }
   ],
   "source": [
    "# Confusion Metrix\n",
    "cm_pred = confusion_matrix(y_test, pred_list)\n",
    "print('Confusion Metrix for Prediction Data :\\n\\n',cm_pred)"
   ]
  },
  {
   "cell_type": "code",
   "execution_count": 26,
   "id": "67e5032e",
   "metadata": {},
   "outputs": [
    {
     "name": "stdout",
     "output_type": "stream",
     "text": [
      "Classification Report for Prediction Data :\n",
      "\n",
      "               precision    recall  f1-score   support\n",
      "\n",
      "           0       0.33      0.12      0.18       233\n",
      "           1       0.85      0.95      0.90      2045\n",
      "           2       0.18      0.08      0.11       147\n",
      "           3       0.00      0.00      0.00        27\n",
      "\n",
      "    accuracy                           0.81      2452\n",
      "   macro avg       0.34      0.29      0.30      2452\n",
      "weighted avg       0.75      0.81      0.77      2452\n",
      "\n"
     ]
    }
   ],
   "source": [
    "# classification Report\n",
    "print('Classification Report for Prediction Data :\\n\\n',classification_report(y_test, pred_list))"
   ]
  },
  {
   "cell_type": "code",
   "execution_count": 27,
   "id": "154ff74a",
   "metadata": {},
   "outputs": [
    {
     "name": "stdout",
     "output_type": "stream",
     "text": [
      "Accuracy Score for Prediction Data : 0.8115823817292006\n"
     ]
    }
   ],
   "source": [
    "# Accuracy Score\n",
    "print('Accuracy Score for Prediction Data :',accuracy_score(y_test, pred_list))"
   ]
  },
  {
   "cell_type": "markdown",
   "id": "1ac0f756",
   "metadata": {},
   "source": [
    "## 3. Predictor Function"
   ]
  },
  {
   "cell_type": "markdown",
   "id": "c8f9ce4f",
   "metadata": {},
   "source": [
    "User defined function that combines qda_model results and rf_model results to give the final prediction. "
   ]
  },
  {
   "cell_type": "code",
   "execution_count": 28,
   "id": "fad9daa5",
   "metadata": {},
   "outputs": [],
   "source": [
    "# for dataframe\n",
    "\n",
    "def Predictor_df(to_predict, model_qda, model_rf):\n",
    "\n",
    "    preds = model_qda.predict(to_predict)\n",
    "    pred_list = []\n",
    "    for i in range(0,len(preds)):\n",
    "        # 0 : operating, 1 : closed\n",
    "        if preds[i] == 1:\n",
    "            out = 1\n",
    "            pred_list.append(out)\n",
    "        else:\n",
    "            pred = model_rf.predict(to_predict[i:i+1])\n",
    "            # 0 : acquired, 1 : operating, 2 : closed, 3 : ipo\n",
    "            if pred == 0:\n",
    "                out = 0\n",
    "                    \n",
    "            elif pred == 1:\n",
    "                out = 1\n",
    "                    \n",
    "            elif pred == 2:\n",
    "                out = 2\n",
    "                    \n",
    "            else:\n",
    "                out = 3\n",
    "            pred_list.append(out)       \n",
    "        \n",
    "\n",
    "    return pred_list"
   ]
  },
  {
   "cell_type": "code",
   "execution_count": 29,
   "id": "5ab7c670",
   "metadata": {},
   "outputs": [],
   "source": [
    "pred_list = Predictor_df(X_test, qda_model, rf_model)"
   ]
  },
  {
   "cell_type": "code",
   "execution_count": 30,
   "id": "28b89b0e",
   "metadata": {},
   "outputs": [
    {
     "data": {
      "text/plain": [
       "2452"
      ]
     },
     "execution_count": 30,
     "metadata": {},
     "output_type": "execute_result"
    }
   ],
   "source": [
    "len(pred_list)"
   ]
  },
  {
   "cell_type": "code",
   "execution_count": 31,
   "id": "c26c39a6",
   "metadata": {},
   "outputs": [
    {
     "data": {
      "text/html": [
       "<div>\n",
       "<style scoped>\n",
       "    .dataframe tbody tr th:only-of-type {\n",
       "        vertical-align: middle;\n",
       "    }\n",
       "\n",
       "    .dataframe tbody tr th {\n",
       "        vertical-align: top;\n",
       "    }\n",
       "\n",
       "    .dataframe thead th {\n",
       "        text-align: right;\n",
       "    }\n",
       "</style>\n",
       "<table border=\"1\" class=\"dataframe\">\n",
       "  <thead>\n",
       "    <tr style=\"text-align: right;\">\n",
       "      <th></th>\n",
       "      <th>Original</th>\n",
       "      <th>Prediction</th>\n",
       "      <th>Error</th>\n",
       "    </tr>\n",
       "  </thead>\n",
       "  <tbody>\n",
       "    <tr>\n",
       "      <th>9248</th>\n",
       "      <td>1</td>\n",
       "      <td>1</td>\n",
       "      <td>0</td>\n",
       "    </tr>\n",
       "    <tr>\n",
       "      <th>1463</th>\n",
       "      <td>1</td>\n",
       "      <td>3</td>\n",
       "      <td>-2</td>\n",
       "    </tr>\n",
       "    <tr>\n",
       "      <th>4928</th>\n",
       "      <td>1</td>\n",
       "      <td>1</td>\n",
       "      <td>0</td>\n",
       "    </tr>\n",
       "    <tr>\n",
       "      <th>3057</th>\n",
       "      <td>1</td>\n",
       "      <td>1</td>\n",
       "      <td>0</td>\n",
       "    </tr>\n",
       "    <tr>\n",
       "      <th>2450</th>\n",
       "      <td>1</td>\n",
       "      <td>1</td>\n",
       "      <td>0</td>\n",
       "    </tr>\n",
       "    <tr>\n",
       "      <th>...</th>\n",
       "      <td>...</td>\n",
       "      <td>...</td>\n",
       "      <td>...</td>\n",
       "    </tr>\n",
       "    <tr>\n",
       "      <th>6967</th>\n",
       "      <td>1</td>\n",
       "      <td>1</td>\n",
       "      <td>0</td>\n",
       "    </tr>\n",
       "    <tr>\n",
       "      <th>1916</th>\n",
       "      <td>1</td>\n",
       "      <td>1</td>\n",
       "      <td>0</td>\n",
       "    </tr>\n",
       "    <tr>\n",
       "      <th>3079</th>\n",
       "      <td>1</td>\n",
       "      <td>1</td>\n",
       "      <td>0</td>\n",
       "    </tr>\n",
       "    <tr>\n",
       "      <th>5512</th>\n",
       "      <td>2</td>\n",
       "      <td>1</td>\n",
       "      <td>1</td>\n",
       "    </tr>\n",
       "    <tr>\n",
       "      <th>5197</th>\n",
       "      <td>1</td>\n",
       "      <td>1</td>\n",
       "      <td>0</td>\n",
       "    </tr>\n",
       "  </tbody>\n",
       "</table>\n",
       "<p>2452 rows × 3 columns</p>\n",
       "</div>"
      ],
      "text/plain": [
       "      Original  Prediction  Error\n",
       "9248         1           1      0\n",
       "1463         1           3     -2\n",
       "4928         1           1      0\n",
       "3057         1           1      0\n",
       "2450         1           1      0\n",
       "...        ...         ...    ...\n",
       "6967         1           1      0\n",
       "1916         1           1      0\n",
       "3079         1           1      0\n",
       "5512         2           1      1\n",
       "5197         1           1      0\n",
       "\n",
       "[2452 rows x 3 columns]"
      ]
     },
     "execution_count": 31,
     "metadata": {},
     "output_type": "execute_result"
    }
   ],
   "source": [
    "pred_df = pd.DataFrame({'Original' : y_test, 'Prediction' : pred_list, 'Error' : y_test - pred_list})\n",
    "pred_df "
   ]
  },
  {
   "cell_type": "code",
   "execution_count": 32,
   "id": "21c2df7c",
   "metadata": {},
   "outputs": [
    {
     "data": {
      "text/plain": [
       "1    2194\n",
       "3     258\n",
       "Name: Prediction, dtype: int64"
      ]
     },
     "execution_count": 32,
     "metadata": {},
     "output_type": "execute_result"
    }
   ],
   "source": [
    "pred_df.Prediction.value_counts()"
   ]
  },
  {
   "cell_type": "code",
   "execution_count": 33,
   "id": "e0ffef8e",
   "metadata": {},
   "outputs": [
    {
     "data": {
      "text/plain": [
       "0.34991843393148453"
      ]
     },
     "execution_count": 33,
     "metadata": {},
     "output_type": "execute_result"
    }
   ],
   "source": [
    "#1 Mean Absolute Error\n",
    "mean_absolute_error(y_test, pred_list)"
   ]
  },
  {
   "cell_type": "code",
   "execution_count": 34,
   "id": "28789b54",
   "metadata": {},
   "outputs": [
    {
     "name": "stdout",
     "output_type": "stream",
     "text": [
      "Confusion Metrix for Prediction Data :\n",
      "\n",
      " [[   0  140    0   93]\n",
      " [   0 1916    0  129]\n",
      " [   0  121    0   26]\n",
      " [   0   17    0   10]]\n"
     ]
    }
   ],
   "source": [
    "# Confusion Metrix\n",
    "cm_pred = confusion_matrix(y_test, pred_list)\n",
    "print('Confusion Metrix for Prediction Data :\\n\\n',cm_pred)"
   ]
  },
  {
   "cell_type": "code",
   "execution_count": 35,
   "id": "364ccb62",
   "metadata": {},
   "outputs": [
    {
     "name": "stdout",
     "output_type": "stream",
     "text": [
      "Classification Report for Prediction Data :\n",
      "\n",
      "               precision    recall  f1-score   support\n",
      "\n",
      "           0       0.00      0.00      0.00       233\n",
      "           1       0.87      0.94      0.90      2045\n",
      "           2       0.00      0.00      0.00       147\n",
      "           3       0.04      0.37      0.07        27\n",
      "\n",
      "    accuracy                           0.79      2452\n",
      "   macro avg       0.23      0.33      0.24      2452\n",
      "weighted avg       0.73      0.79      0.75      2452\n",
      "\n"
     ]
    }
   ],
   "source": [
    "# classification Report\n",
    "print('Classification Report for Prediction Data :\\n\\n',classification_report(y_test, pred_list))"
   ]
  },
  {
   "cell_type": "code",
   "execution_count": 36,
   "id": "5b70d7b0",
   "metadata": {},
   "outputs": [
    {
     "name": "stdout",
     "output_type": "stream",
     "text": [
      "Accuracy Score for Prediction Data : 0.7854812398042414\n"
     ]
    }
   ],
   "source": [
    "# Accuracy Score\n",
    "print('Accuracy Score for Prediction Data :',accuracy_score(y_test, pred_list))"
   ]
  },
  {
   "cell_type": "code",
   "execution_count": 37,
   "id": "a00e57c5",
   "metadata": {},
   "outputs": [],
   "source": [
    "# for single entries\n",
    "def Predictor(to_predict, model_qda, model_rf):\n",
    "    #size = len(to_predict_list)\n",
    "    #to_predict = np.array(to_predict_list).reshape(1, size)\n",
    "\n",
    "    preds = model_qda.predict(to_predict)\n",
    "    # 0 : operating, 1 : closed\n",
    "    if preds == 1:\n",
    "        out = 'Operating'\n",
    "        print(1)\n",
    "    else:\n",
    "        pred = np.ndarray.tolist(model_rf.predict(to_predict))\n",
    "        pred = round(pred[0])\n",
    "        # result = str(preds[0])\n",
    "        # 0 : acquired, 1 : operating, 2 : closed, 3 : ipo\n",
    "        if pred == 0:\n",
    "            out = 'Acquired'\n",
    "        elif pred == 1:\n",
    "            out = 'Operating'\n",
    "        elif pred == 2:\n",
    "            out = 'Closed'\n",
    "        else:\n",
    "            out = 'IPO'\n",
    "\n",
    "    return out"
   ]
  },
  {
   "cell_type": "code",
   "execution_count": 38,
   "id": "2feefe97",
   "metadata": {
    "scrolled": true
   },
   "outputs": [
    {
     "data": {
      "text/plain": [
       "5197    1\n",
       "Name: status, dtype: int64"
      ]
     },
     "execution_count": 38,
     "metadata": {},
     "output_type": "execute_result"
    }
   ],
   "source": [
    "y_test[-1:]"
   ]
  },
  {
   "cell_type": "code",
   "execution_count": 39,
   "id": "da02d41b",
   "metadata": {},
   "outputs": [
    {
     "data": {
      "text/html": [
       "<div>\n",
       "<style scoped>\n",
       "    .dataframe tbody tr th:only-of-type {\n",
       "        vertical-align: middle;\n",
       "    }\n",
       "\n",
       "    .dataframe tbody tr th {\n",
       "        vertical-align: top;\n",
       "    }\n",
       "\n",
       "    .dataframe thead th {\n",
       "        text-align: right;\n",
       "    }\n",
       "</style>\n",
       "<table border=\"1\" class=\"dataframe\">\n",
       "  <thead>\n",
       "    <tr style=\"text-align: right;\">\n",
       "      <th></th>\n",
       "      <th>founded_at</th>\n",
       "      <th>first_funding_at</th>\n",
       "      <th>last_funding_at</th>\n",
       "      <th>funding_rounds</th>\n",
       "      <th>funding_total_usd</th>\n",
       "      <th>first_milestone_at</th>\n",
       "      <th>last_milestone_at</th>\n",
       "      <th>milestones</th>\n",
       "    </tr>\n",
       "  </thead>\n",
       "  <tbody>\n",
       "    <tr>\n",
       "      <th>5197</th>\n",
       "      <td>0.743504</td>\n",
       "      <td>1.103806</td>\n",
       "      <td>0.895274</td>\n",
       "      <td>-0.791392</td>\n",
       "      <td>-0.747106</td>\n",
       "      <td>0.918555</td>\n",
       "      <td>0.721096</td>\n",
       "      <td>-0.735943</td>\n",
       "    </tr>\n",
       "  </tbody>\n",
       "</table>\n",
       "</div>"
      ],
      "text/plain": [
       "      founded_at  first_funding_at  last_funding_at  funding_rounds  \\\n",
       "5197    0.743504          1.103806         0.895274       -0.791392   \n",
       "\n",
       "      funding_total_usd  first_milestone_at  last_milestone_at  milestones  \n",
       "5197          -0.747106            0.918555           0.721096   -0.735943  "
      ]
     },
     "execution_count": 39,
     "metadata": {},
     "output_type": "execute_result"
    }
   ],
   "source": [
    "X_test[-1:]"
   ]
  },
  {
   "cell_type": "code",
   "execution_count": null,
   "id": "4013447f",
   "metadata": {},
   "outputs": [],
   "source": []
  }
 ],
 "metadata": {
  "kernelspec": {
   "display_name": "Python 3",
   "language": "python",
   "name": "python3"
  },
  "language_info": {
   "codemirror_mode": {
    "name": "ipython",
    "version": 3
   },
   "file_extension": ".py",
   "mimetype": "text/x-python",
   "name": "python",
   "nbconvert_exporter": "python",
   "pygments_lexer": "ipython3",
   "version": "3.8.8"
  }
 },
 "nbformat": 4,
 "nbformat_minor": 5
}
